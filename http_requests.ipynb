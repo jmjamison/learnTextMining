{
 "cells": [
  {
   "cell_type": "code",
   "execution_count": null,
   "metadata": {},
   "outputs": [],
   "source": [
    "#  quickstart:   <http://docs.python-requests.org/en/latest/user/quickstart/>"
   ]
  },
  {
   "cell_type": "code",
   "execution_count": 78,
   "metadata": {},
   "outputs": [],
   "source": [
    "import requests\n",
    "import json\n",
    "from PIL import Image\n",
    "from io import BytesIO"
   ]
  },
  {
   "cell_type": "code",
   "execution_count": 79,
   "metadata": {},
   "outputs": [],
   "source": [
    "r=requests.get('http://www.jmjamison.com')"
   ]
  },
  {
   "cell_type": "code",
   "execution_count": 80,
   "metadata": {},
   "outputs": [],
   "source": [
    "r=requests.get('http://www.jmjamison.com', data={'key':'value'})"
   ]
  },
  {
   "cell_type": "code",
   "execution_count": 81,
   "metadata": {},
   "outputs": [],
   "source": [
    "r=requests.put('http://www.jmjamison.com/put', data={'key':'value'})\n",
    "r=requests.delete('http://www.jmjamison.com/delete')\n",
    "r=requests.head('http://www.jmjamison.com/get')\n",
    "r=requests.options('http://www.jmjamison.com/get')"
   ]
  },
  {
   "cell_type": "code",
   "execution_count": 82,
   "metadata": {},
   "outputs": [],
   "source": [
    "something={'key':'value1', 'key2':'value2'}\n",
    "r=requests.get('http://jmjamison.com/get', params=something)"
   ]
  },
  {
   "cell_type": "code",
   "execution_count": 83,
   "metadata": {},
   "outputs": [
    {
     "name": "stdout",
     "output_type": "stream",
     "text": [
      "http://www.jmjamison.com/get?key=value1&key2=value2\n"
     ]
    }
   ],
   "source": [
    "print(r.url)"
   ]
  },
  {
   "cell_type": "code",
   "execution_count": 84,
   "metadata": {},
   "outputs": [
    {
     "name": "stdout",
     "output_type": "stream",
     "text": [
      "http://www.jmjamison.com/get?key1=value1&key2=value2&key2=value3\n",
      "<!DOCTYPE html>\n",
      "<html lang=\"en-US\">\n",
      "<head>\n",
      "    <meta charset=\"UTF-8\">\n",
      "    <meta name=\"viewport\" content=\"width=device-width, initial-scale=1\">\n",
      "    <meta http-equiv=\"X-UA-Compatible\" content=\"IE=edge\">\n",
      "    <link rel=\"profile\" href=\"http://gmpg.org/xfn/11\">\n",
      "    <link rel=\"pingback\" href=\"http://www.jmjamison.com/xmlrpc.php\">\n",
      "<title>Page not found &#8211; j.m.jamison&#039;s site of perpetual reconstruction &amp; backyard dyer blog</title>\n",
      "<script type='text/javascript'>function ctSetCookie(c_name, value, def_value){document.cookie = c_name + '=' + escape(value) + '; path=/';}ctSetCookie('ct_checkjs', '433613939', '0');</script><link rel='dns-prefetch' href='//use.fontawesome.com' />\n",
      "<link rel='dns-prefetch' href='//s.w.org' />\n",
      "<link rel=\"alternate\" type=\"application/rss+xml\" title=\"j.m.jamison&#039;s site of perpetual reconstruction &amp; backyard dyer blog &raquo; Feed\" href=\"http://www.jmjamison.com/feed/\" />\n",
      "<link rel=\"alternate\" type=\"application/rss+xml\" title=\"j.m.jamison&#039;s site of perpetual reconstruction &amp; backyard dyer blog &raquo; Comments Feed\" href=\"http://www.jmjamison.com/comments/feed/\" />\n",
      "\t\t<script type=\"text/javascript\">\n",
      "\t\t\twindow._wpemojiSettings = {\"baseUrl\":\"https:\\/\\/s.w.org\\/images\\/core\\/emoji\\/11\\/72x72\\/\",\"ext\":\".png\",\"svgUrl\":\"https:\\/\\/s.w.org\\/images\\/core\\/emoji\\/11\\/svg\\/\",\"svgExt\":\".svg\",\"source\":{\"concatemoji\":\"http:\\/\\/www.jmjamison.com\\/wp-includes\\/js\\/wp-emoji-release.min.js?ver=4.9.8\"}};\n",
      "\t\t\t!function(a,b,c){function d(a,b){var c=String.fromCharCode;l.clearRect(0,0,k.width,k.height),l.fillText(c.apply(this,a),0,0);var d=k.toDataURL();l.clearRect(0,0,k.width,k.height),l.fillText(c.apply(this,b),0,0);var e=k.toDataURL();return d===e}function e(a){var b;if(!l||!l.fillText)return!1;switch(l.textBaseline=\"top\",l.font=\"600 32px Arial\",a){case\"flag\":return!(b=d([55356,56826,55356,56819],[55356,56826,8203,55356,56819]))&&(b=d([55356,57332,56128,56423,56128,56418,56128,56421,56128,56430,56128,56423,56128,56447],[55356,57332,8203,56128,56423,8203,56128,56418,8203,56128,56421,8203,56128,56430,8203,56128,56423,8203,56128,56447]),!b);case\"emoji\":return b=d([55358,56760,9792,65039],[55358,56760,8203,9792,65039]),!b}return!1}function f(a){var c=b.createElement(\"script\");c.src=a,c.defer=c.type=\"text/javascript\",b.getElementsByTagName(\"head\")[0].appendChild(c)}var g,h,i,j,k=b.createElement(\"canvas\"),l=k.getContext&&k.getContext(\"2d\");for(j=Array(\"flag\",\"emoji\"),c.supports={everything:!0,everythingExceptFlag:!0},i=0;i<j.length;i++)c.supports[j[i]]=e(j[i]),c.supports.everything=c.supports.everything&&c.supports[j[i]],\"flag\"!==j[i]&&(c.supports.everythingExceptFlag=c.supports.everythingExceptFlag&&c.supports[j[i]]);c.supports.everythingExceptFlag=c.supports.everythingExceptFlag&&!c.supports.flag,c.DOMReady=!1,c.readyCallback=function(){c.DOMReady=!0},c.supports.everything||(h=function(){c.readyCallback()},b.addEventListener?(b.addEventListener(\"DOMContentLoaded\",h,!1),a.addEventListener(\"load\",h,!1)):(a.attachEvent(\"onload\",h),b.attachEvent(\"onreadystatechange\",function(){\"complete\"===b.readyState&&c.readyCallback()})),g=c.source||{},g.concatemoji?f(g.concatemoji):g.wpemoji&&g.twemoji&&(f(g.twemoji),f(g.wpemoji)))}(window,document,window._wpemojiSettings);\n",
      "\t\t</script>\n",
      "\t\t<style type=\"text/css\">\n",
      "img.wp-smiley,\n",
      "img.emoji {\n",
      "\tdisplay: inline !important;\n",
      "\tborder: none !important;\n",
      "\tbox-shadow: none !important;\n",
      "\theight: 1em !important;\n",
      "\twidth: 1em !important;\n",
      "\tmargin: 0 .07em !important;\n",
      "\tvertical-align: -0.1em !important;\n",
      "\tbackground: none !important;\n",
      "\tpadding: 0 !important;\n",
      "}\n",
      "</style>\n",
      "<link rel='stylesheet' id='foobox-free-min-css'  href='http://www.jmjamison.com/wp-content/plugins/foobox-image-lightbox/free/css/foobox.free.min.css?ver=2.6.0' type='text/css' media='all' />\n",
      "<link rel='stylesheet' id='Total_Soft_Portfolio-css'  href='http://www.jmjamison.com/wp-content/plugins/gallery-portfolio/CSS/Total-Soft-Portfolio-Widget.css?ver=4.9.8' type='text/css' media='all' />\n",
      "<link rel='stylesheet' id='Total_Soft_Portfolio2-css'  href='http://www.jmjamison.com/wp-content/plugins/gallery-portfolio/CSS/Filt_popup.min.css?ver=4.9.8' type='text/css' media='all' />\n",
      "<link rel='stylesheet' id='fontawesome-css-css'  href='http://www.jmjamison.com/wp-content/plugins/gallery-portfolio/CSS/totalsoft.css?ver=4.9.8' type='text/css' media='all' />\n",
      "<link rel='stylesheet' id='bwg_sumoselect-css'  href='http://www.jmjamison.com/wp-content/plugins/photo-gallery/css/sumoselect.min.css?ver=3.0.3' type='text/css' media='all' />\n",
      "<link rel='stylesheet' id='bwg_font-awesome-css'  href='http://www.jmjamison.com/wp-content/plugins/photo-gallery/css/font-awesome/font-awesome.min.css?ver=4.6.3' type='text/css' media='all' />\n",
      "<link rel='stylesheet' id='bwg_mCustomScrollbar-css'  href='http://www.jmjamison.com/wp-content/plugins/photo-gallery/css/jquery.mCustomScrollbar.min.css?ver=1.5.8' type='text/css' media='all' />\n",
      "<link rel='stylesheet' id='bwg_frontend-css'  href='http://www.jmjamison.com/wp-content/plugins/photo-gallery/css/bwg_frontend.css?ver=1.5.8' type='text/css' media='all' />\n",
      "<link rel='stylesheet' id='tabs_rpvsrc_style-css'  href='http://www.jmjamison.com/wp-content/plugins/tabs-recent-posts-vs-recent-comments/inc/style.css?ver=4.9.8' type='text/css' media='all' />\n",
      "<link rel='stylesheet' id='wp-bootstrap-starter-bootstrap-css-css'  href='http://www.jmjamison.com/wp-content/themes/wp-bootstrap-starter/inc/assets/css/bootstrap.min.css?ver=4.9.8' type='text/css' media='all' />\n",
      "<link rel='stylesheet' id='wp-bootstrap-pro-fontawesome-cdn-css'  href='https://use.fontawesome.com/releases/v5.1.0/css/all.css?ver=4.9.8' type='text/css' media='all' />\n",
      "<link rel='stylesheet' id='wp-bootstrap-starter-style-css'  href='http://www.jmjamison.com/wp-content/themes/wp-bootstrap-starter/style.css?ver=4.9.8' type='text/css' media='all' />\n",
      "<link rel='stylesheet' id='slb_core-css'  href='http://www.jmjamison.com/wp-content/plugins/simple-lightbox/client/css/app.css?ver=2.7.0' type='text/css' media='all' />\n",
      "<script type='text/javascript' src='http://www.jmjamison.com/wp-includes/js/jquery/jquery.js?ver=1.12.4'></script>\n",
      "<script type='text/javascript' src='http://www.jmjamison.com/wp-includes/js/jquery/jquery-migrate.min.js?ver=1.4.1'></script>\n",
      "<script type='text/javascript' src='http://www.jmjamison.com/wp-content/plugins/cleantalk-spam-protect/js/apbct-public.js?ver=5.108.1'></script>\n",
      "<script type='text/javascript'>\n",
      "/* <![CDATA[ */\n",
      "var ctPublic = {\"gdpr_forms\":[],\"gdpr_text\":\"By using this form you agree with the storage and processing of your data by using the Privacy Policy on this website.\"};\n",
      "/* ]]> */\n",
      "</script>\n",
      "<script type='text/javascript' src='http://www.jmjamison.com/wp-content/plugins/cleantalk-spam-protect/js/apbct-public--gdpr.js?ver=5.108.1'></script>\n",
      "<script type='text/javascript'>\n",
      "/* <![CDATA[ */\n",
      "var ctNocache = {\"ajaxurl\":\"http:\\/\\/www.jmjamison.com\\/wp-admin\\/admin-ajax.php\",\"info_flag\":\"\",\"set_cookies_flag\":\"\",\"blog_home\":\"http:\\/\\/www.jmjamison.com\\/\"};\n",
      "/* ]]> */\n",
      "</script>\n",
      "<script type='text/javascript' src='http://www.jmjamison.com/wp-content/plugins/cleantalk-spam-protect/inc/cleantalk_nocache.js?ver=5.108.1'></script>\n",
      "<script type='text/javascript' src='http://www.jmjamison.com/wp-includes/js/jquery/ui/core.min.js?ver=1.11.4'></script>\n",
      "<script type='text/javascript'>\n",
      "/* <![CDATA[ */\n",
      "var object = {\"ajaxurl\":\"http:\\/\\/www.jmjamison.com\\/wp-admin\\/admin-ajax.php\"};\n",
      "/* ]]> */\n",
      "</script>\n",
      "<script type='text/javascript' src='http://www.jmjamison.com/wp-content/plugins/gallery-portfolio/JS/Total-Soft-Portfolio-Widget.js?ver=4.9.8'></script>\n",
      "<!--[if lt IE 9]>\n",
      "<script type='text/javascript' src='http://www.jmjamison.com/wp-content/themes/wp-bootstrap-starter/inc/assets/js/html5.js?ver=3.7.0'></script>\n",
      "<![endif]-->\n",
      "<script type='text/javascript' src='http://www.jmjamison.com/wp-content/plugins/foobox-image-lightbox/free/js/foobox.free.min.js?ver=2.6.0'></script>\n",
      "<link rel='https://api.w.org/' href='http://www.jmjamison.com/wp-json/' />\n",
      "<link rel=\"EditURI\" type=\"application/rsd+xml\" title=\"RSD\" href=\"http://www.jmjamison.com/xmlrpc.php?rsd\" />\n",
      "<link rel=\"wlwmanifest\" type=\"application/wlwmanifest+xml\" href=\"http://www.jmjamison.com/wp-includes/wlwmanifest.xml\" /> \n",
      "<meta name=\"generator\" content=\"WordPress 4.9.8\" />\n",
      "<!-- <meta name=\"NextGEN\" version=\"3.0.16\" /> -->\n",
      "    <style type=\"text/css\">\n",
      "        #page-sub-header { background: #fff; }\n",
      "    </style>\n",
      "    \t<style type=\"text/css\">\n",
      "\t        a.site-title,\n",
      "\t\t.site-description {\n",
      "\t\t\tcolor: #000000;\n",
      "\t\t}\n",
      "\t\t</style>\n",
      "\t\t\t<style type=\"text/css\" id=\"wp-custom-css\">\n",
      "\t\t\theader#masthead {\n",
      "    margin-bottom: 0;\n",
      "    background-color: #a29c9c;\n",
      "    box-shadow: 0 0.5rem 1rem rgba(0,0,0,.05), inset 0 -1px 0 rgba(0,0,0,.1);\n",
      "    padding: .74rem 1rem;\n",
      "}\n",
      "\n",
      ".navbar-brand > a {\n",
      "    color: rgba(0, 0, 0, 0.9);\n",
      "    font-size: 1.1rem;\n",
      "    outline: medium none;\n",
      "    text-decoration: none;\n",
      "    font-weight: 100;\n",
      "}\n",
      "body:not(.theme-preset-active) footer#colophon {\n",
      "  color: #fff;\n",
      "  background-color: #a29c9c;\n",
      "}\t\t</style>\n",
      "\t</head>\n",
      "\n",
      "<body class=\"error404 hfeed\">\n",
      "<div id=\"page\" class=\"site\">\n",
      "\t<a class=\"skip-link screen-reader-text\" href=\"#content\">Skip to content</a>\n",
      "    \t<header id=\"masthead\" class=\"site-header navbar-static-top navbar-light\" role=\"banner\">\n",
      "        <div class=\"container\">\n",
      "            <nav class=\"navbar navbar-expand-xl p-0\">\n",
      "                <div class=\"navbar-brand\">\n",
      "                                            <a class=\"site-title\" href=\"http://www.jmjamison.com/\">j.m.jamison&#039;s site of perpetual reconstruction &amp; backyard dyer blog</a>\n",
      "                    \n",
      "                </div>\n",
      "                <button class=\"navbar-toggler\" type=\"button\" data-toggle=\"collapse\" data-target=\"#main-nav\" aria-controls=\"\" aria-expanded=\"false\" aria-label=\"Toggle navigation\">\n",
      "                    <span class=\"navbar-toggler-icon\"></span>\n",
      "                </button>\n",
      "\n",
      "                <div id=\"main-nav\" class=\"collapse navbar-collapse justify-content-end\"><ul id=\"menu-main_menu\" class=\"navbar-nav\"><li id=\"menu-item-1468\" class=\"nav-item menu-item menu-item-type-post_type menu-item-object-page current_page_parent menu-item-1468\"><a title=\"backyard dyer\" href=\"http://www.jmjamison.com/posts/\" class=\"nav-link\">backyard dyer</a></li>\n",
      "<li id=\"menu-item-36\" class=\"nav-item menu-item menu-item-type-custom menu-item-object-custom menu-item-home menu-item-36\"><a title=\"home\" href=\"http://www.jmjamison.com/\" class=\"nav-link\">home</a></li>\n",
      "<li id=\"menu-item-45\" class=\"nav-item menu-item menu-item-type-post_type menu-item-object-page menu-item-45\"><a title=\"Paintings\" href=\"http://www.jmjamison.com/paintings/\" class=\"nav-link\">Paintings</a></li>\n",
      "<li id=\"menu-item-1543\" class=\"nav-item menu-item menu-item-type-post_type menu-item-object-page menu-item-1543\"><a title=\"Weaving\" href=\"http://www.jmjamison.com/weaving-textile/\" class=\"nav-link\">Weaving</a></li>\n",
      "<li id=\"menu-item-44\" class=\"nav-item menu-item menu-item-type-post_type menu-item-object-page menu-item-44\"><a title=\"Prints\" href=\"http://www.jmjamison.com/prints/\" class=\"nav-link\">Prints</a></li>\n",
      "<li id=\"menu-item-1508\" class=\"nav-item menu-item menu-item-type-post_type menu-item-object-page menu-item-1508\"><a title=\"About (backyard dyer)\" href=\"http://www.jmjamison.com/about/\" class=\"nav-link\">About (backyard dyer)</a></li>\n",
      "</ul></div>\n",
      "            </nav>\n",
      "        </div>\n",
      "\t</header><!-- #masthead -->\n",
      "    \t<div id=\"content\" class=\"site-content\">\n",
      "\t\t<div class=\"container\">\n",
      "\t\t\t<div class=\"row\">\n",
      "                \n",
      "\t<section id=\"primary\" class=\"content-area col-sm-12 col-lg-8\">\n",
      "\t\t<main id=\"main\" class=\"site-main\" role=\"main\">\n",
      "\n",
      "\t\t\t<section class=\"error-404 not-found\">\n",
      "\t\t\t\t<header class=\"page-header\">\n",
      "\t\t\t\t\t<h1 class=\"page-title\">Oops! That page can&rsquo;t be found.</h1>\n",
      "\t\t\t\t</header><!-- .page-header -->\n",
      "\n",
      "\t\t\t\t<div class=\"page-content\">\n",
      "\t\t\t\t\t<p>It looks like nothing was found at this location. Maybe try one of the links below or a search?</p>\n",
      "\n",
      "\t\t\t\t\t<form role=\"search\" method=\"get\" class=\"search-form\" action=\"http://www.jmjamison.com/\">\r\n",
      "    <label>\r\n",
      "        <input type=\"search\" class=\"search-field form-control\" placeholder=\"Search &hellip;\" value=\"\" name=\"s\" title=\"Search for:\">\r\n",
      "    </label>\r\n",
      "    <input type=\"submit\" class=\"search-submit btn btn-default\" value=\"Search\">\r\n",
      "</form>\r\n",
      "\r\n",
      "\r\n",
      "\r\n",
      "\n",
      "\t\t\t\t</div><!-- .page-content -->\n",
      "\t\t\t</section><!-- .error-404 -->\n",
      "\n",
      "\t\t</main><!-- #main -->\n",
      "\t</section><!-- #primary -->\n",
      "\n",
      "\n",
      "<aside id=\"secondary\" class=\"widget-area col-sm-12 col-lg-4\" role=\"complementary\">\n",
      "\t<section id=\"search-2\" class=\"widget-odd widget-first widget-1 widget widget_search\"><form role=\"search\" method=\"get\" class=\"search-form\" action=\"http://www.jmjamison.com/\">\r\n",
      "    <label>\r\n",
      "        <input type=\"search\" class=\"search-field form-control\" placeholder=\"Search &hellip;\" value=\"\" name=\"s\" title=\"Search for:\">\r\n",
      "    </label>\r\n",
      "    <input type=\"submit\" class=\"search-submit btn btn-default\" value=\"Search\">\r\n",
      "</form>\r\n",
      "\r\n",
      "\r\n",
      "\r\n",
      "</section>\t\t<section id=\"recent-posts-2\" class=\"widget-even widget-2 widget widget_recent_entries\">\t\t<h3 class=\"widget-title\">Recent Posts</h3>\t\t<ul>\n",
      "\t\t\t\t\t\t\t\t\t\t\t<li>\n",
      "\t\t\t\t\t<a href=\"http://www.jmjamison.com/blog-moving-day/\">Blog Moving Day</a>\n",
      "\t\t\t\t\t\t\t\t\t</li>\n",
      "\t\t\t\t\t\t\t\t\t\t\t<li>\n",
      "\t\t\t\t\t<a href=\"http://www.jmjamison.com/oxalis-wood-sorrel-season-again/\">Oxalis / Wood Sorrel Season (Again)</a>\n",
      "\t\t\t\t\t\t\t\t\t</li>\n",
      "\t\t\t\t\t\t\t\t\t\t\t<li>\n",
      "\t\t\t\t\t<a href=\"http://www.jmjamison.com/dyeing-with-rosemary-rosmarinus-officinalis/\">Dyeing with Rosemary (Rosmarinus officinalis)</a>\n",
      "\t\t\t\t\t\t\t\t\t</li>\n",
      "\t\t\t\t\t\t\t\t\t\t\t<li>\n",
      "\t\t\t\t\t<a href=\"http://www.jmjamison.com/more-weld/\">More Weld</a>\n",
      "\t\t\t\t\t\t\t\t\t</li>\n",
      "\t\t\t\t\t\t\t\t\t\t\t<li>\n",
      "\t\t\t\t\t<a href=\"http://www.jmjamison.com/march-2016-weld-and-woad/\">March 2016 Weld and Woad</a>\n",
      "\t\t\t\t\t\t\t\t\t</li>\n",
      "\t\t\t\t\t\t\t\t\t\t\t<li>\n",
      "\t\t\t\t\t<a href=\"http://www.jmjamison.com/bubblegum-pink/\">Bubblegum Pink</a>\n",
      "\t\t\t\t\t\t\t\t\t</li>\n",
      "\t\t\t\t\t\t\t\t\t\t\t<li>\n",
      "\t\t\t\t\t<a href=\"http://www.jmjamison.com/june-july-weld-plants/\">June-July Weld Plants</a>\n",
      "\t\t\t\t\t\t\t\t\t</li>\n",
      "\t\t\t\t\t\t\t\t\t\t\t<li>\n",
      "\t\t\t\t\t<a href=\"http://www.jmjamison.com/why-i-dont-like-the-word-natural/\">Why I Don&#8217;t Like the Word &#8220;Natural&#8221;</a>\n",
      "\t\t\t\t\t\t\t\t\t</li>\n",
      "\t\t\t\t\t\t\t\t\t\t\t<li>\n",
      "\t\t\t\t\t<a href=\"http://www.jmjamison.com/another-generation-of-fiber-artists/\">Another generation of fiber artists</a>\n",
      "\t\t\t\t\t\t\t\t\t</li>\n",
      "\t\t\t\t\t\t\t\t\t\t\t<li>\n",
      "\t\t\t\t\t<a href=\"http://www.jmjamison.com/back-on-the-woad-track/\">Back on the Woad Track</a>\n",
      "\t\t\t\t\t\t\t\t\t</li>\n",
      "\t\t\t\t\t</ul>\n",
      "\t\t</section><section id=\"archives-2\" class=\"widget-odd widget-last widget-3 widget widget_archive\"><h3 class=\"widget-title\">Archives</h3>\t\t<ul>\n",
      "\t\t\t<li><a href='http://www.jmjamison.com/2018/04/'>April 2018</a></li>\n",
      "\t<li><a href='http://www.jmjamison.com/2017/02/'>February 2017</a></li>\n",
      "\t<li><a href='http://www.jmjamison.com/2016/07/'>July 2016</a></li>\n",
      "\t<li><a href='http://www.jmjamison.com/2016/05/'>May 2016</a></li>\n",
      "\t<li><a href='http://www.jmjamison.com/2016/03/'>March 2016</a></li>\n",
      "\t<li><a href='http://www.jmjamison.com/2015/11/'>November 2015</a></li>\n",
      "\t<li><a href='http://www.jmjamison.com/2015/07/'>July 2015</a></li>\n",
      "\t<li><a href='http://www.jmjamison.com/2015/04/'>April 2015</a></li>\n",
      "\t<li><a href='http://www.jmjamison.com/2014/09/'>September 2014</a></li>\n",
      "\t<li><a href='http://www.jmjamison.com/2014/06/'>June 2014</a></li>\n",
      "\t<li><a href='http://www.jmjamison.com/2014/05/'>May 2014</a></li>\n",
      "\t<li><a href='http://www.jmjamison.com/2013/12/'>December 2013</a></li>\n",
      "\t<li><a href='http://www.jmjamison.com/2013/06/'>June 2013</a></li>\n",
      "\t<li><a href='http://www.jmjamison.com/2013/05/'>May 2013</a></li>\n",
      "\t<li><a href='http://www.jmjamison.com/2013/01/'>January 2013</a></li>\n",
      "\t<li><a href='http://www.jmjamison.com/2012/11/'>November 2012</a></li>\n",
      "\t<li><a href='http://www.jmjamison.com/2012/07/'>July 2012</a></li>\n",
      "\t<li><a href='http://www.jmjamison.com/2012/03/'>March 2012</a></li>\n",
      "\t<li><a href='http://www.jmjamison.com/2011/10/'>October 2011</a></li>\n",
      "\t<li><a href='http://www.jmjamison.com/2011/08/'>August 2011</a></li>\n",
      "\t<li><a href='http://www.jmjamison.com/2011/07/'>July 2011</a></li>\n",
      "\t<li><a href='http://www.jmjamison.com/2011/06/'>June 2011</a></li>\n",
      "\t<li><a href='http://www.jmjamison.com/2011/05/'>May 2011</a></li>\n",
      "\t<li><a href='http://www.jmjamison.com/2011/02/'>February 2011</a></li>\n",
      "\t<li><a href='http://www.jmjamison.com/2011/01/'>January 2011</a></li>\n",
      "\t<li><a href='http://www.jmjamison.com/2010/08/'>August 2010</a></li>\n",
      "\t<li><a href='http://www.jmjamison.com/2010/07/'>July 2010</a></li>\n",
      "\t<li><a href='http://www.jmjamison.com/2010/06/'>June 2010</a></li>\n",
      "\t<li><a href='http://www.jmjamison.com/2010/04/'>April 2010</a></li>\n",
      "\t<li><a href='http://www.jmjamison.com/2010/03/'>March 2010</a></li>\n",
      "\t<li><a href='http://www.jmjamison.com/2010/02/'>February 2010</a></li>\n",
      "\t<li><a href='http://www.jmjamison.com/2010/01/'>January 2010</a></li>\n",
      "\t<li><a href='http://www.jmjamison.com/2009/12/'>December 2009</a></li>\n",
      "\t<li><a href='http://www.jmjamison.com/2009/11/'>November 2009</a></li>\n",
      "\t<li><a href='http://www.jmjamison.com/2009/09/'>September 2009</a></li>\n",
      "\t<li><a href='http://www.jmjamison.com/2009/08/'>August 2009</a></li>\n",
      "\t<li><a href='http://www.jmjamison.com/2009/07/'>July 2009</a></li>\n",
      "\t<li><a href='http://www.jmjamison.com/2009/06/'>June 2009</a></li>\n",
      "\t<li><a href='http://www.jmjamison.com/2009/05/'>May 2009</a></li>\n",
      "\t<li><a href='http://www.jmjamison.com/2009/03/'>March 2009</a></li>\n",
      "\t<li><a href='http://www.jmjamison.com/2009/02/'>February 2009</a></li>\n",
      "\t<li><a href='http://www.jmjamison.com/2008/12/'>December 2008</a></li>\n",
      "\t<li><a href='http://www.jmjamison.com/2008/11/'>November 2008</a></li>\n",
      "\t<li><a href='http://www.jmjamison.com/2008/10/'>October 2008</a></li>\n",
      "\t<li><a href='http://www.jmjamison.com/2008/09/'>September 2008</a></li>\n",
      "\t<li><a href='http://www.jmjamison.com/2008/07/'>July 2008</a></li>\n",
      "\t<li><a href='http://www.jmjamison.com/2008/03/'>March 2008</a></li>\n",
      "\t<li><a href='http://www.jmjamison.com/2008/01/'>January 2008</a></li>\n",
      "\t<li><a href='http://www.jmjamison.com/2007/12/'>December 2007</a></li>\n",
      "\t<li><a href='http://www.jmjamison.com/2007/05/'>May 2007</a></li>\n",
      "\t<li><a href='http://www.jmjamison.com/2006/11/'>November 2006</a></li>\n",
      "\t\t</ul>\n",
      "\t\t</section></aside><!-- #secondary -->\n",
      "\t\t\t</div><!-- .row -->\n",
      "\t\t</div><!-- .container -->\n",
      "\t</div><!-- #content -->\n",
      "    \t<footer id=\"colophon\" class=\"site-footer navbar-light\" role=\"contentinfo\">\n",
      "\t\t<div class=\"container pt-3 pb-3\">\n",
      "            <div class=\"site-info\">\n",
      "                &copy; 2018 <a href=\"http://www.jmjamison.com\">j.m.jamison&#039;s site of perpetual reconstruction &amp; backyard dyer blog</a>                <span class=\"sep\"> | </span>\n",
      "                <a class=\"credits\" href=\"https://afterimagedesigns.com/wp-bootstrap-starter/\" target=\"_blank\" title=\"Wordpress Technical Support\" alt=\"Bootstrap Wordpress Theme\">Bootstrap Wordpress Theme</a>\n",
      "\n",
      "            </div><!-- close .site-info -->\n",
      "\t\t</div>\n",
      "\t</footer><!-- #colophon -->\n",
      "</div><!-- #page -->\n",
      "\n",
      "<!-- ngg_resource_manager_marker --><script type='text/javascript' src='http://www.jmjamison.com/wp-content/plugins/photo-gallery/js/jquery.sumoselect.min.js?ver=3.0.3'></script>\n",
      "<script type='text/javascript' src='http://www.jmjamison.com/wp-content/plugins/photo-gallery/js/jquery.mobile.min.js?ver=1.5.8'></script>\n",
      "<script type='text/javascript' src='http://www.jmjamison.com/wp-content/plugins/photo-gallery/js/jquery.mCustomScrollbar.concat.min.js?ver=1.5.8'></script>\n",
      "<script type='text/javascript' src='http://www.jmjamison.com/wp-content/plugins/photo-gallery/js/jquery.fullscreen-0.4.1.min.js?ver=0.4.1'></script>\n",
      "<script type='text/javascript'>\n",
      "/* <![CDATA[ */\n",
      "var bwg_objectL10n = {\"bwg_field_required\":\"field is required.\",\"bwg_mail_validation\":\"This is not a valid email address.\",\"bwg_search_result\":\"There are no images matching your search.\",\"is_pro\":\"\"};\n",
      "/* ]]> */\n",
      "</script>\n",
      "<script type='text/javascript' src='http://www.jmjamison.com/wp-content/plugins/photo-gallery/js/bwg_gallery_box.js?ver=1.5.8'></script>\n",
      "<script type='text/javascript' src='http://www.jmjamison.com/wp-content/plugins/photo-gallery/js/bwg_embed.js?ver=1.5.8'></script>\n",
      "<script type='text/javascript'>\n",
      "/* <![CDATA[ */\n",
      "var bwg_objectsL10n = {\"bwg_select_tag\":\"Select Tag\",\"bwg_order_by\":\"Order By\",\"bwg_search\":\"Search\",\"bwg_show_ecommerce\":\"Show Ecommerce\",\"bwg_hide_ecommerce\":\"Hide Ecommerce\",\"bwg_show_comments\":\"Show Comments\",\"bwg_hide_comments\":\"Hide Comments\",\"bwg_how_comments\":\"how Comments\",\"bwg_restore\":\"Restore\",\"bwg_maximize\":\"Maximize\",\"bwg_fullscreen\":\"Fullscreen\",\"bwg_search_tag\":\"SEARCH...\",\"bwg_tag_no_match\":\"No tags found\",\"bwg_all_tags_selected\":\"All tags selected\",\"bwg_tags_selected\":\"tags selected\",\"play\":\"Play\",\"pause\":\"Pause\",\"is_pro\":\"\"};\n",
      "/* ]]> */\n",
      "</script>\n",
      "<script type='text/javascript' src='http://www.jmjamison.com/wp-content/plugins/photo-gallery/js/bwg_frontend.js?ver=1.5.8'></script>\n",
      "<script type='text/javascript' src='http://www.jmjamison.com/wp-content/plugins/tabs-recent-posts-vs-recent-comments/inc/script.js?ver=1.0'></script>\n",
      "<script type='text/javascript' src='http://www.jmjamison.com/wp-content/themes/wp-bootstrap-starter/inc/assets/js/popper.min.js?ver=4.9.8'></script>\n",
      "<script type='text/javascript' src='http://www.jmjamison.com/wp-content/themes/wp-bootstrap-starter/inc/assets/js/bootstrap.min.js?ver=4.9.8'></script>\n",
      "<script type='text/javascript' src='http://www.jmjamison.com/wp-content/themes/wp-bootstrap-starter/inc/assets/js/theme-script.min.js?ver=4.9.8'></script>\n",
      "<script type='text/javascript' src='http://www.jmjamison.com/wp-content/themes/wp-bootstrap-starter/inc/assets/js/skip-link-focus-fix.min.js?ver=20151215'></script>\n",
      "<script type='text/javascript' src='http://www.jmjamison.com/wp-includes/js/wp-embed.min.js?ver=4.9.8'></script>\n",
      "<script type=\"text/javascript\" id=\"slb_context\">/* <![CDATA[ */if ( !!window.jQuery ) {(function($){$(document).ready(function(){if ( !!window.SLB ) { {$.extend(SLB, {\"context\":[\"public\",\"user_guest\"]});} }})})(jQuery);}/* ]]> */</script>\n",
      "<script type=\"text/foobox\">/* Run FooBox FREE (v2.6.0) */\r\n",
      "(function( FOOBOX, $, undefined ) {\r\n",
      "  FOOBOX.o = {wordpress: { enabled: true }, countMessage:'image %index of %total', excludes:'.fbx-link,.nofoobox,.nolightbox,a[href*=\"pinterest.com/pin/create/button/\"]', affiliate : { enabled: false }};\r\n",
      "  FOOBOX.init = function() {\r\n",
      "    $(\".fbx-link\").removeClass(\"fbx-link\");\r\n",
      "    $(\".gallery, .wp-block-gallery, .wp-caption, .wp-block-image, a:has(img[class*=wp-image-]), .post a:has(img[class*=wp-image-]), .foobox\").foobox(FOOBOX.o);\r\n",
      "  };\r\n",
      "})( window.FOOBOX = window.FOOBOX || {}, FooBox.$ );\r\n",
      "\r\n",
      "FooBox.ready(function() {\r\n",
      "\r\n",
      "  jQuery(\"body\").append(\"<span aria-hidden=\\\"true\\\" class=\\\"foobox_font_preload\\\" style=\\\"font-family:'foobox'; color:transparent; position:absolute; top:-9999px; left: -9999px;\\\">f</span>\");\r\n",
      "  FOOBOX.init();\r\n",
      "  jQuery('body').on('post-load', function(){ FOOBOX.init(); });\r\n",
      "\r\n",
      "});\r\n",
      "</script>\t\t\t\t<script type=\"text/javascript\">\r\n",
      "\t\t\t\t\tif (window.addEventListener){\r\n",
      "\t\t\t\t\t\twindow.addEventListener(\"DOMContentLoaded\", function() {\r\n",
      "\t\t\t\t\t\t\tvar arr = document.querySelectorAll(\"script[type='text/foobox']\");\r\n",
      "\t\t\t\t\t\t\tfor (var x = 0; x < arr.length; x++) {\r\n",
      "\t\t\t\t\t\t\t\tvar script = document.createElement(\"script\");\r\n",
      "\t\t\t\t\t\t\t\tscript.type = \"text/javascript\";\r\n",
      "\t\t\t\t\t\t\t\tscript.innerHTML = arr[x].innerHTML;\r\n",
      "\t\t\t\t\t\t\t\tarr[x].parentNode.replaceChild(script, arr[x]);\r\n",
      "\t\t\t\t\t\t\t}\r\n",
      "\t\t\t\t\t\t});\r\n",
      "\t\t\t\t\t} else {\r\n",
      "\t\t\t\t\t\tconsole.log(\"FooBox does not support the current browser.\");\r\n",
      "\t\t\t\t\t}\r\n",
      "\t\t\t\t</script>\r\n",
      "\t\t\t\t</body>\n",
      "</html>\n"
     ]
    }
   ],
   "source": [
    "# passing list of items as value\n",
    "something2={'key1':'value1', 'key2':['value2', ['value3']]}\n",
    "#\n",
    "r=requests.get('http://www.jmjamison.com/get', params=something2)\n",
    "#\n",
    "print(r.url)\n",
    "print(r.text)"
   ]
  },
  {
   "cell_type": "code",
   "execution_count": 85,
   "metadata": {},
   "outputs": [
    {
     "data": {
      "text/plain": [
       "'<!DOCTYPE html>\\n<html lang=\"en-US\">\\n<head>\\n    <meta charset=\"UTF-8\">\\n    <meta name=\"viewport\" content=\"width=device-width, initial-scale=1\">\\n    <meta http-equiv=\"X-UA-Compatible\" content=\"IE=edge\">\\n    <link rel=\"profile\" href=\"http://gmpg.org/xfn/11\">\\n    <link rel=\"pingback\" href=\"http://www.jmjamison.com/xmlrpc.php\">\\n<title>Page not found &#8211; j.m.jamison&#039;s site of perpetual reconstruction &amp; backyard dyer blog</title>\\n<script type=\\'text/javascript\\'>function ctSetCookie(c_name, value, def_value){document.cookie = c_name + \\'=\\' + escape(value) + \\'; path=/\\';}ctSetCookie(\\'ct_checkjs\\', \\'433613939\\', \\'0\\');</script><link rel=\\'dns-prefetch\\' href=\\'//use.fontawesome.com\\' />\\n<link rel=\\'dns-prefetch\\' href=\\'//s.w.org\\' />\\n<link rel=\"alternate\" type=\"application/rss+xml\" title=\"j.m.jamison&#039;s site of perpetual reconstruction &amp; backyard dyer blog &raquo; Feed\" href=\"http://www.jmjamison.com/feed/\" />\\n<link rel=\"alternate\" type=\"application/rss+xml\" title=\"j.m.jamison&#039;s site of perpetual reconstruction &amp; backyard dyer blog &raquo; Comments Feed\" href=\"http://www.jmjamison.com/comments/feed/\" />\\n\\t\\t<script type=\"text/javascript\">\\n\\t\\t\\twindow._wpemojiSettings = {\"baseUrl\":\"https:\\\\/\\\\/s.w.org\\\\/images\\\\/core\\\\/emoji\\\\/11\\\\/72x72\\\\/\",\"ext\":\".png\",\"svgUrl\":\"https:\\\\/\\\\/s.w.org\\\\/images\\\\/core\\\\/emoji\\\\/11\\\\/svg\\\\/\",\"svgExt\":\".svg\",\"source\":{\"concatemoji\":\"http:\\\\/\\\\/www.jmjamison.com\\\\/wp-includes\\\\/js\\\\/wp-emoji-release.min.js?ver=4.9.8\"}};\\n\\t\\t\\t!function(a,b,c){function d(a,b){var c=String.fromCharCode;l.clearRect(0,0,k.width,k.height),l.fillText(c.apply(this,a),0,0);var d=k.toDataURL();l.clearRect(0,0,k.width,k.height),l.fillText(c.apply(this,b),0,0);var e=k.toDataURL();return d===e}function e(a){var b;if(!l||!l.fillText)return!1;switch(l.textBaseline=\"top\",l.font=\"600 32px Arial\",a){case\"flag\":return!(b=d([55356,56826,55356,56819],[55356,56826,8203,55356,56819]))&&(b=d([55356,57332,56128,56423,56128,56418,56128,56421,56128,56430,56128,56423,56128,56447],[55356,57332,8203,56128,56423,8203,56128,56418,8203,56128,56421,8203,56128,56430,8203,56128,56423,8203,56128,56447]),!b);case\"emoji\":return b=d([55358,56760,9792,65039],[55358,56760,8203,9792,65039]),!b}return!1}function f(a){var c=b.createElement(\"script\");c.src=a,c.defer=c.type=\"text/javascript\",b.getElementsByTagName(\"head\")[0].appendChild(c)}var g,h,i,j,k=b.createElement(\"canvas\"),l=k.getContext&&k.getContext(\"2d\");for(j=Array(\"flag\",\"emoji\"),c.supports={everything:!0,everythingExceptFlag:!0},i=0;i<j.length;i++)c.supports[j[i]]=e(j[i]),c.supports.everything=c.supports.everything&&c.supports[j[i]],\"flag\"!==j[i]&&(c.supports.everythingExceptFlag=c.supports.everythingExceptFlag&&c.supports[j[i]]);c.supports.everythingExceptFlag=c.supports.everythingExceptFlag&&!c.supports.flag,c.DOMReady=!1,c.readyCallback=function(){c.DOMReady=!0},c.supports.everything||(h=function(){c.readyCallback()},b.addEventListener?(b.addEventListener(\"DOMContentLoaded\",h,!1),a.addEventListener(\"load\",h,!1)):(a.attachEvent(\"onload\",h),b.attachEvent(\"onreadystatechange\",function(){\"complete\"===b.readyState&&c.readyCallback()})),g=c.source||{},g.concatemoji?f(g.concatemoji):g.wpemoji&&g.twemoji&&(f(g.twemoji),f(g.wpemoji)))}(window,document,window._wpemojiSettings);\\n\\t\\t</script>\\n\\t\\t<style type=\"text/css\">\\nimg.wp-smiley,\\nimg.emoji {\\n\\tdisplay: inline !important;\\n\\tborder: none !important;\\n\\tbox-shadow: none !important;\\n\\theight: 1em !important;\\n\\twidth: 1em !important;\\n\\tmargin: 0 .07em !important;\\n\\tvertical-align: -0.1em !important;\\n\\tbackground: none !important;\\n\\tpadding: 0 !important;\\n}\\n</style>\\n<link rel=\\'stylesheet\\' id=\\'foobox-free-min-css\\'  href=\\'http://www.jmjamison.com/wp-content/plugins/foobox-image-lightbox/free/css/foobox.free.min.css?ver=2.6.0\\' type=\\'text/css\\' media=\\'all\\' />\\n<link rel=\\'stylesheet\\' id=\\'Total_Soft_Portfolio-css\\'  href=\\'http://www.jmjamison.com/wp-content/plugins/gallery-portfolio/CSS/Total-Soft-Portfolio-Widget.css?ver=4.9.8\\' type=\\'text/css\\' media=\\'all\\' />\\n<link rel=\\'stylesheet\\' id=\\'Total_Soft_Portfolio2-css\\'  href=\\'http://www.jmjamison.com/wp-content/plugins/gallery-portfolio/CSS/Filt_popup.min.css?ver=4.9.8\\' type=\\'text/css\\' media=\\'all\\' />\\n<link rel=\\'stylesheet\\' id=\\'fontawesome-css-css\\'  href=\\'http://www.jmjamison.com/wp-content/plugins/gallery-portfolio/CSS/totalsoft.css?ver=4.9.8\\' type=\\'text/css\\' media=\\'all\\' />\\n<link rel=\\'stylesheet\\' id=\\'bwg_sumoselect-css\\'  href=\\'http://www.jmjamison.com/wp-content/plugins/photo-gallery/css/sumoselect.min.css?ver=3.0.3\\' type=\\'text/css\\' media=\\'all\\' />\\n<link rel=\\'stylesheet\\' id=\\'bwg_font-awesome-css\\'  href=\\'http://www.jmjamison.com/wp-content/plugins/photo-gallery/css/font-awesome/font-awesome.min.css?ver=4.6.3\\' type=\\'text/css\\' media=\\'all\\' />\\n<link rel=\\'stylesheet\\' id=\\'bwg_mCustomScrollbar-css\\'  href=\\'http://www.jmjamison.com/wp-content/plugins/photo-gallery/css/jquery.mCustomScrollbar.min.css?ver=1.5.8\\' type=\\'text/css\\' media=\\'all\\' />\\n<link rel=\\'stylesheet\\' id=\\'bwg_frontend-css\\'  href=\\'http://www.jmjamison.com/wp-content/plugins/photo-gallery/css/bwg_frontend.css?ver=1.5.8\\' type=\\'text/css\\' media=\\'all\\' />\\n<link rel=\\'stylesheet\\' id=\\'tabs_rpvsrc_style-css\\'  href=\\'http://www.jmjamison.com/wp-content/plugins/tabs-recent-posts-vs-recent-comments/inc/style.css?ver=4.9.8\\' type=\\'text/css\\' media=\\'all\\' />\\n<link rel=\\'stylesheet\\' id=\\'wp-bootstrap-starter-bootstrap-css-css\\'  href=\\'http://www.jmjamison.com/wp-content/themes/wp-bootstrap-starter/inc/assets/css/bootstrap.min.css?ver=4.9.8\\' type=\\'text/css\\' media=\\'all\\' />\\n<link rel=\\'stylesheet\\' id=\\'wp-bootstrap-pro-fontawesome-cdn-css\\'  href=\\'https://use.fontawesome.com/releases/v5.1.0/css/all.css?ver=4.9.8\\' type=\\'text/css\\' media=\\'all\\' />\\n<link rel=\\'stylesheet\\' id=\\'wp-bootstrap-starter-style-css\\'  href=\\'http://www.jmjamison.com/wp-content/themes/wp-bootstrap-starter/style.css?ver=4.9.8\\' type=\\'text/css\\' media=\\'all\\' />\\n<link rel=\\'stylesheet\\' id=\\'slb_core-css\\'  href=\\'http://www.jmjamison.com/wp-content/plugins/simple-lightbox/client/css/app.css?ver=2.7.0\\' type=\\'text/css\\' media=\\'all\\' />\\n<script type=\\'text/javascript\\' src=\\'http://www.jmjamison.com/wp-includes/js/jquery/jquery.js?ver=1.12.4\\'></script>\\n<script type=\\'text/javascript\\' src=\\'http://www.jmjamison.com/wp-includes/js/jquery/jquery-migrate.min.js?ver=1.4.1\\'></script>\\n<script type=\\'text/javascript\\' src=\\'http://www.jmjamison.com/wp-content/plugins/cleantalk-spam-protect/js/apbct-public.js?ver=5.108.1\\'></script>\\n<script type=\\'text/javascript\\'>\\n/* <![CDATA[ */\\nvar ctPublic = {\"gdpr_forms\":[],\"gdpr_text\":\"By using this form you agree with the storage and processing of your data by using the Privacy Policy on this website.\"};\\n/* ]]> */\\n</script>\\n<script type=\\'text/javascript\\' src=\\'http://www.jmjamison.com/wp-content/plugins/cleantalk-spam-protect/js/apbct-public--gdpr.js?ver=5.108.1\\'></script>\\n<script type=\\'text/javascript\\'>\\n/* <![CDATA[ */\\nvar ctNocache = {\"ajaxurl\":\"http:\\\\/\\\\/www.jmjamison.com\\\\/wp-admin\\\\/admin-ajax.php\",\"info_flag\":\"\",\"set_cookies_flag\":\"\",\"blog_home\":\"http:\\\\/\\\\/www.jmjamison.com\\\\/\"};\\n/* ]]> */\\n</script>\\n<script type=\\'text/javascript\\' src=\\'http://www.jmjamison.com/wp-content/plugins/cleantalk-spam-protect/inc/cleantalk_nocache.js?ver=5.108.1\\'></script>\\n<script type=\\'text/javascript\\' src=\\'http://www.jmjamison.com/wp-includes/js/jquery/ui/core.min.js?ver=1.11.4\\'></script>\\n<script type=\\'text/javascript\\'>\\n/* <![CDATA[ */\\nvar object = {\"ajaxurl\":\"http:\\\\/\\\\/www.jmjamison.com\\\\/wp-admin\\\\/admin-ajax.php\"};\\n/* ]]> */\\n</script>\\n<script type=\\'text/javascript\\' src=\\'http://www.jmjamison.com/wp-content/plugins/gallery-portfolio/JS/Total-Soft-Portfolio-Widget.js?ver=4.9.8\\'></script>\\n<!--[if lt IE 9]>\\n<script type=\\'text/javascript\\' src=\\'http://www.jmjamison.com/wp-content/themes/wp-bootstrap-starter/inc/assets/js/html5.js?ver=3.7.0\\'></script>\\n<![endif]-->\\n<script type=\\'text/javascript\\' src=\\'http://www.jmjamison.com/wp-content/plugins/foobox-image-lightbox/free/js/foobox.free.min.js?ver=2.6.0\\'></script>\\n<link rel=\\'https://api.w.org/\\' href=\\'http://www.jmjamison.com/wp-json/\\' />\\n<link rel=\"EditURI\" type=\"application/rsd+xml\" title=\"RSD\" href=\"http://www.jmjamison.com/xmlrpc.php?rsd\" />\\n<link rel=\"wlwmanifest\" type=\"application/wlwmanifest+xml\" href=\"http://www.jmjamison.com/wp-includes/wlwmanifest.xml\" /> \\n<meta name=\"generator\" content=\"WordPress 4.9.8\" />\\n<!-- <meta name=\"NextGEN\" version=\"3.0.16\" /> -->\\n    <style type=\"text/css\">\\n        #page-sub-header { background: #fff; }\\n    </style>\\n    \\t<style type=\"text/css\">\\n\\t        a.site-title,\\n\\t\\t.site-description {\\n\\t\\t\\tcolor: #000000;\\n\\t\\t}\\n\\t\\t</style>\\n\\t\\t\\t<style type=\"text/css\" id=\"wp-custom-css\">\\n\\t\\t\\theader#masthead {\\n    margin-bottom: 0;\\n    background-color: #a29c9c;\\n    box-shadow: 0 0.5rem 1rem rgba(0,0,0,.05), inset 0 -1px 0 rgba(0,0,0,.1);\\n    padding: .74rem 1rem;\\n}\\n\\n.navbar-brand > a {\\n    color: rgba(0, 0, 0, 0.9);\\n    font-size: 1.1rem;\\n    outline: medium none;\\n    text-decoration: none;\\n    font-weight: 100;\\n}\\nbody:not(.theme-preset-active) footer#colophon {\\n  color: #fff;\\n  background-color: #a29c9c;\\n}\\t\\t</style>\\n\\t</head>\\n\\n<body class=\"error404 hfeed\">\\n<div id=\"page\" class=\"site\">\\n\\t<a class=\"skip-link screen-reader-text\" href=\"#content\">Skip to content</a>\\n    \\t<header id=\"masthead\" class=\"site-header navbar-static-top navbar-light\" role=\"banner\">\\n        <div class=\"container\">\\n            <nav class=\"navbar navbar-expand-xl p-0\">\\n                <div class=\"navbar-brand\">\\n                                            <a class=\"site-title\" href=\"http://www.jmjamison.com/\">j.m.jamison&#039;s site of perpetual reconstruction &amp; backyard dyer blog</a>\\n                    \\n                </div>\\n                <button class=\"navbar-toggler\" type=\"button\" data-toggle=\"collapse\" data-target=\"#main-nav\" aria-controls=\"\" aria-expanded=\"false\" aria-label=\"Toggle navigation\">\\n                    <span class=\"navbar-toggler-icon\"></span>\\n                </button>\\n\\n                <div id=\"main-nav\" class=\"collapse navbar-collapse justify-content-end\"><ul id=\"menu-main_menu\" class=\"navbar-nav\"><li id=\"menu-item-1468\" class=\"nav-item menu-item menu-item-type-post_type menu-item-object-page current_page_parent menu-item-1468\"><a title=\"backyard dyer\" href=\"http://www.jmjamison.com/posts/\" class=\"nav-link\">backyard dyer</a></li>\\n<li id=\"menu-item-36\" class=\"nav-item menu-item menu-item-type-custom menu-item-object-custom menu-item-home menu-item-36\"><a title=\"home\" href=\"http://www.jmjamison.com/\" class=\"nav-link\">home</a></li>\\n<li id=\"menu-item-45\" class=\"nav-item menu-item menu-item-type-post_type menu-item-object-page menu-item-45\"><a title=\"Paintings\" href=\"http://www.jmjamison.com/paintings/\" class=\"nav-link\">Paintings</a></li>\\n<li id=\"menu-item-1543\" class=\"nav-item menu-item menu-item-type-post_type menu-item-object-page menu-item-1543\"><a title=\"Weaving\" href=\"http://www.jmjamison.com/weaving-textile/\" class=\"nav-link\">Weaving</a></li>\\n<li id=\"menu-item-44\" class=\"nav-item menu-item menu-item-type-post_type menu-item-object-page menu-item-44\"><a title=\"Prints\" href=\"http://www.jmjamison.com/prints/\" class=\"nav-link\">Prints</a></li>\\n<li id=\"menu-item-1508\" class=\"nav-item menu-item menu-item-type-post_type menu-item-object-page menu-item-1508\"><a title=\"About (backyard dyer)\" href=\"http://www.jmjamison.com/about/\" class=\"nav-link\">About (backyard dyer)</a></li>\\n</ul></div>\\n            </nav>\\n        </div>\\n\\t</header><!-- #masthead -->\\n    \\t<div id=\"content\" class=\"site-content\">\\n\\t\\t<div class=\"container\">\\n\\t\\t\\t<div class=\"row\">\\n                \\n\\t<section id=\"primary\" class=\"content-area col-sm-12 col-lg-8\">\\n\\t\\t<main id=\"main\" class=\"site-main\" role=\"main\">\\n\\n\\t\\t\\t<section class=\"error-404 not-found\">\\n\\t\\t\\t\\t<header class=\"page-header\">\\n\\t\\t\\t\\t\\t<h1 class=\"page-title\">Oops! That page can&rsquo;t be found.</h1>\\n\\t\\t\\t\\t</header><!-- .page-header -->\\n\\n\\t\\t\\t\\t<div class=\"page-content\">\\n\\t\\t\\t\\t\\t<p>It looks like nothing was found at this location. Maybe try one of the links below or a search?</p>\\n\\n\\t\\t\\t\\t\\t<form role=\"search\" method=\"get\" class=\"search-form\" action=\"http://www.jmjamison.com/\">\\r\\n    <label>\\r\\n        <input type=\"search\" class=\"search-field form-control\" placeholder=\"Search &hellip;\" value=\"\" name=\"s\" title=\"Search for:\">\\r\\n    </label>\\r\\n    <input type=\"submit\" class=\"search-submit btn btn-default\" value=\"Search\">\\r\\n</form>\\r\\n\\r\\n\\r\\n\\r\\n\\n\\t\\t\\t\\t</div><!-- .page-content -->\\n\\t\\t\\t</section><!-- .error-404 -->\\n\\n\\t\\t</main><!-- #main -->\\n\\t</section><!-- #primary -->\\n\\n\\n<aside id=\"secondary\" class=\"widget-area col-sm-12 col-lg-4\" role=\"complementary\">\\n\\t<section id=\"search-2\" class=\"widget-odd widget-first widget-1 widget widget_search\"><form role=\"search\" method=\"get\" class=\"search-form\" action=\"http://www.jmjamison.com/\">\\r\\n    <label>\\r\\n        <input type=\"search\" class=\"search-field form-control\" placeholder=\"Search &hellip;\" value=\"\" name=\"s\" title=\"Search for:\">\\r\\n    </label>\\r\\n    <input type=\"submit\" class=\"search-submit btn btn-default\" value=\"Search\">\\r\\n</form>\\r\\n\\r\\n\\r\\n\\r\\n</section>\\t\\t<section id=\"recent-posts-2\" class=\"widget-even widget-2 widget widget_recent_entries\">\\t\\t<h3 class=\"widget-title\">Recent Posts</h3>\\t\\t<ul>\\n\\t\\t\\t\\t\\t\\t\\t\\t\\t\\t\\t<li>\\n\\t\\t\\t\\t\\t<a href=\"http://www.jmjamison.com/blog-moving-day/\">Blog Moving Day</a>\\n\\t\\t\\t\\t\\t\\t\\t\\t\\t</li>\\n\\t\\t\\t\\t\\t\\t\\t\\t\\t\\t\\t<li>\\n\\t\\t\\t\\t\\t<a href=\"http://www.jmjamison.com/oxalis-wood-sorrel-season-again/\">Oxalis / Wood Sorrel Season (Again)</a>\\n\\t\\t\\t\\t\\t\\t\\t\\t\\t</li>\\n\\t\\t\\t\\t\\t\\t\\t\\t\\t\\t\\t<li>\\n\\t\\t\\t\\t\\t<a href=\"http://www.jmjamison.com/dyeing-with-rosemary-rosmarinus-officinalis/\">Dyeing with Rosemary (Rosmarinus officinalis)</a>\\n\\t\\t\\t\\t\\t\\t\\t\\t\\t</li>\\n\\t\\t\\t\\t\\t\\t\\t\\t\\t\\t\\t<li>\\n\\t\\t\\t\\t\\t<a href=\"http://www.jmjamison.com/more-weld/\">More Weld</a>\\n\\t\\t\\t\\t\\t\\t\\t\\t\\t</li>\\n\\t\\t\\t\\t\\t\\t\\t\\t\\t\\t\\t<li>\\n\\t\\t\\t\\t\\t<a href=\"http://www.jmjamison.com/march-2016-weld-and-woad/\">March 2016 Weld and Woad</a>\\n\\t\\t\\t\\t\\t\\t\\t\\t\\t</li>\\n\\t\\t\\t\\t\\t\\t\\t\\t\\t\\t\\t<li>\\n\\t\\t\\t\\t\\t<a href=\"http://www.jmjamison.com/bubblegum-pink/\">Bubblegum Pink</a>\\n\\t\\t\\t\\t\\t\\t\\t\\t\\t</li>\\n\\t\\t\\t\\t\\t\\t\\t\\t\\t\\t\\t<li>\\n\\t\\t\\t\\t\\t<a href=\"http://www.jmjamison.com/june-july-weld-plants/\">June-July Weld Plants</a>\\n\\t\\t\\t\\t\\t\\t\\t\\t\\t</li>\\n\\t\\t\\t\\t\\t\\t\\t\\t\\t\\t\\t<li>\\n\\t\\t\\t\\t\\t<a href=\"http://www.jmjamison.com/why-i-dont-like-the-word-natural/\">Why I Don&#8217;t Like the Word &#8220;Natural&#8221;</a>\\n\\t\\t\\t\\t\\t\\t\\t\\t\\t</li>\\n\\t\\t\\t\\t\\t\\t\\t\\t\\t\\t\\t<li>\\n\\t\\t\\t\\t\\t<a href=\"http://www.jmjamison.com/another-generation-of-fiber-artists/\">Another generation of fiber artists</a>\\n\\t\\t\\t\\t\\t\\t\\t\\t\\t</li>\\n\\t\\t\\t\\t\\t\\t\\t\\t\\t\\t\\t<li>\\n\\t\\t\\t\\t\\t<a href=\"http://www.jmjamison.com/back-on-the-woad-track/\">Back on the Woad Track</a>\\n\\t\\t\\t\\t\\t\\t\\t\\t\\t</li>\\n\\t\\t\\t\\t\\t</ul>\\n\\t\\t</section><section id=\"archives-2\" class=\"widget-odd widget-last widget-3 widget widget_archive\"><h3 class=\"widget-title\">Archives</h3>\\t\\t<ul>\\n\\t\\t\\t<li><a href=\\'http://www.jmjamison.com/2018/04/\\'>April 2018</a></li>\\n\\t<li><a href=\\'http://www.jmjamison.com/2017/02/\\'>February 2017</a></li>\\n\\t<li><a href=\\'http://www.jmjamison.com/2016/07/\\'>July 2016</a></li>\\n\\t<li><a href=\\'http://www.jmjamison.com/2016/05/\\'>May 2016</a></li>\\n\\t<li><a href=\\'http://www.jmjamison.com/2016/03/\\'>March 2016</a></li>\\n\\t<li><a href=\\'http://www.jmjamison.com/2015/11/\\'>November 2015</a></li>\\n\\t<li><a href=\\'http://www.jmjamison.com/2015/07/\\'>July 2015</a></li>\\n\\t<li><a href=\\'http://www.jmjamison.com/2015/04/\\'>April 2015</a></li>\\n\\t<li><a href=\\'http://www.jmjamison.com/2014/09/\\'>September 2014</a></li>\\n\\t<li><a href=\\'http://www.jmjamison.com/2014/06/\\'>June 2014</a></li>\\n\\t<li><a href=\\'http://www.jmjamison.com/2014/05/\\'>May 2014</a></li>\\n\\t<li><a href=\\'http://www.jmjamison.com/2013/12/\\'>December 2013</a></li>\\n\\t<li><a href=\\'http://www.jmjamison.com/2013/06/\\'>June 2013</a></li>\\n\\t<li><a href=\\'http://www.jmjamison.com/2013/05/\\'>May 2013</a></li>\\n\\t<li><a href=\\'http://www.jmjamison.com/2013/01/\\'>January 2013</a></li>\\n\\t<li><a href=\\'http://www.jmjamison.com/2012/11/\\'>November 2012</a></li>\\n\\t<li><a href=\\'http://www.jmjamison.com/2012/07/\\'>July 2012</a></li>\\n\\t<li><a href=\\'http://www.jmjamison.com/2012/03/\\'>March 2012</a></li>\\n\\t<li><a href=\\'http://www.jmjamison.com/2011/10/\\'>October 2011</a></li>\\n\\t<li><a href=\\'http://www.jmjamison.com/2011/08/\\'>August 2011</a></li>\\n\\t<li><a href=\\'http://www.jmjamison.com/2011/07/\\'>July 2011</a></li>\\n\\t<li><a href=\\'http://www.jmjamison.com/2011/06/\\'>June 2011</a></li>\\n\\t<li><a href=\\'http://www.jmjamison.com/2011/05/\\'>May 2011</a></li>\\n\\t<li><a href=\\'http://www.jmjamison.com/2011/02/\\'>February 2011</a></li>\\n\\t<li><a href=\\'http://www.jmjamison.com/2011/01/\\'>January 2011</a></li>\\n\\t<li><a href=\\'http://www.jmjamison.com/2010/08/\\'>August 2010</a></li>\\n\\t<li><a href=\\'http://www.jmjamison.com/2010/07/\\'>July 2010</a></li>\\n\\t<li><a href=\\'http://www.jmjamison.com/2010/06/\\'>June 2010</a></li>\\n\\t<li><a href=\\'http://www.jmjamison.com/2010/04/\\'>April 2010</a></li>\\n\\t<li><a href=\\'http://www.jmjamison.com/2010/03/\\'>March 2010</a></li>\\n\\t<li><a href=\\'http://www.jmjamison.com/2010/02/\\'>February 2010</a></li>\\n\\t<li><a href=\\'http://www.jmjamison.com/2010/01/\\'>January 2010</a></li>\\n\\t<li><a href=\\'http://www.jmjamison.com/2009/12/\\'>December 2009</a></li>\\n\\t<li><a href=\\'http://www.jmjamison.com/2009/11/\\'>November 2009</a></li>\\n\\t<li><a href=\\'http://www.jmjamison.com/2009/09/\\'>September 2009</a></li>\\n\\t<li><a href=\\'http://www.jmjamison.com/2009/08/\\'>August 2009</a></li>\\n\\t<li><a href=\\'http://www.jmjamison.com/2009/07/\\'>July 2009</a></li>\\n\\t<li><a href=\\'http://www.jmjamison.com/2009/06/\\'>June 2009</a></li>\\n\\t<li><a href=\\'http://www.jmjamison.com/2009/05/\\'>May 2009</a></li>\\n\\t<li><a href=\\'http://www.jmjamison.com/2009/03/\\'>March 2009</a></li>\\n\\t<li><a href=\\'http://www.jmjamison.com/2009/02/\\'>February 2009</a></li>\\n\\t<li><a href=\\'http://www.jmjamison.com/2008/12/\\'>December 2008</a></li>\\n\\t<li><a href=\\'http://www.jmjamison.com/2008/11/\\'>November 2008</a></li>\\n\\t<li><a href=\\'http://www.jmjamison.com/2008/10/\\'>October 2008</a></li>\\n\\t<li><a href=\\'http://www.jmjamison.com/2008/09/\\'>September 2008</a></li>\\n\\t<li><a href=\\'http://www.jmjamison.com/2008/07/\\'>July 2008</a></li>\\n\\t<li><a href=\\'http://www.jmjamison.com/2008/03/\\'>March 2008</a></li>\\n\\t<li><a href=\\'http://www.jmjamison.com/2008/01/\\'>January 2008</a></li>\\n\\t<li><a href=\\'http://www.jmjamison.com/2007/12/\\'>December 2007</a></li>\\n\\t<li><a href=\\'http://www.jmjamison.com/2007/05/\\'>May 2007</a></li>\\n\\t<li><a href=\\'http://www.jmjamison.com/2006/11/\\'>November 2006</a></li>\\n\\t\\t</ul>\\n\\t\\t</section></aside><!-- #secondary -->\\n\\t\\t\\t</div><!-- .row -->\\n\\t\\t</div><!-- .container -->\\n\\t</div><!-- #content -->\\n    \\t<footer id=\"colophon\" class=\"site-footer navbar-light\" role=\"contentinfo\">\\n\\t\\t<div class=\"container pt-3 pb-3\">\\n            <div class=\"site-info\">\\n                &copy; 2018 <a href=\"http://www.jmjamison.com\">j.m.jamison&#039;s site of perpetual reconstruction &amp; backyard dyer blog</a>                <span class=\"sep\"> | </span>\\n                <a class=\"credits\" href=\"https://afterimagedesigns.com/wp-bootstrap-starter/\" target=\"_blank\" title=\"Wordpress Technical Support\" alt=\"Bootstrap Wordpress Theme\">Bootstrap Wordpress Theme</a>\\n\\n            </div><!-- close .site-info -->\\n\\t\\t</div>\\n\\t</footer><!-- #colophon -->\\n</div><!-- #page -->\\n\\n<!-- ngg_resource_manager_marker --><script type=\\'text/javascript\\' src=\\'http://www.jmjamison.com/wp-content/plugins/photo-gallery/js/jquery.sumoselect.min.js?ver=3.0.3\\'></script>\\n<script type=\\'text/javascript\\' src=\\'http://www.jmjamison.com/wp-content/plugins/photo-gallery/js/jquery.mobile.min.js?ver=1.5.8\\'></script>\\n<script type=\\'text/javascript\\' src=\\'http://www.jmjamison.com/wp-content/plugins/photo-gallery/js/jquery.mCustomScrollbar.concat.min.js?ver=1.5.8\\'></script>\\n<script type=\\'text/javascript\\' src=\\'http://www.jmjamison.com/wp-content/plugins/photo-gallery/js/jquery.fullscreen-0.4.1.min.js?ver=0.4.1\\'></script>\\n<script type=\\'text/javascript\\'>\\n/* <![CDATA[ */\\nvar bwg_objectL10n = {\"bwg_field_required\":\"field is required.\",\"bwg_mail_validation\":\"This is not a valid email address.\",\"bwg_search_result\":\"There are no images matching your search.\",\"is_pro\":\"\"};\\n/* ]]> */\\n</script>\\n<script type=\\'text/javascript\\' src=\\'http://www.jmjamison.com/wp-content/plugins/photo-gallery/js/bwg_gallery_box.js?ver=1.5.8\\'></script>\\n<script type=\\'text/javascript\\' src=\\'http://www.jmjamison.com/wp-content/plugins/photo-gallery/js/bwg_embed.js?ver=1.5.8\\'></script>\\n<script type=\\'text/javascript\\'>\\n/* <![CDATA[ */\\nvar bwg_objectsL10n = {\"bwg_select_tag\":\"Select Tag\",\"bwg_order_by\":\"Order By\",\"bwg_search\":\"Search\",\"bwg_show_ecommerce\":\"Show Ecommerce\",\"bwg_hide_ecommerce\":\"Hide Ecommerce\",\"bwg_show_comments\":\"Show Comments\",\"bwg_hide_comments\":\"Hide Comments\",\"bwg_how_comments\":\"how Comments\",\"bwg_restore\":\"Restore\",\"bwg_maximize\":\"Maximize\",\"bwg_fullscreen\":\"Fullscreen\",\"bwg_search_tag\":\"SEARCH...\",\"bwg_tag_no_match\":\"No tags found\",\"bwg_all_tags_selected\":\"All tags selected\",\"bwg_tags_selected\":\"tags selected\",\"play\":\"Play\",\"pause\":\"Pause\",\"is_pro\":\"\"};\\n/* ]]> */\\n</script>\\n<script type=\\'text/javascript\\' src=\\'http://www.jmjamison.com/wp-content/plugins/photo-gallery/js/bwg_frontend.js?ver=1.5.8\\'></script>\\n<script type=\\'text/javascript\\' src=\\'http://www.jmjamison.com/wp-content/plugins/tabs-recent-posts-vs-recent-comments/inc/script.js?ver=1.0\\'></script>\\n<script type=\\'text/javascript\\' src=\\'http://www.jmjamison.com/wp-content/themes/wp-bootstrap-starter/inc/assets/js/popper.min.js?ver=4.9.8\\'></script>\\n<script type=\\'text/javascript\\' src=\\'http://www.jmjamison.com/wp-content/themes/wp-bootstrap-starter/inc/assets/js/bootstrap.min.js?ver=4.9.8\\'></script>\\n<script type=\\'text/javascript\\' src=\\'http://www.jmjamison.com/wp-content/themes/wp-bootstrap-starter/inc/assets/js/theme-script.min.js?ver=4.9.8\\'></script>\\n<script type=\\'text/javascript\\' src=\\'http://www.jmjamison.com/wp-content/themes/wp-bootstrap-starter/inc/assets/js/skip-link-focus-fix.min.js?ver=20151215\\'></script>\\n<script type=\\'text/javascript\\' src=\\'http://www.jmjamison.com/wp-includes/js/wp-embed.min.js?ver=4.9.8\\'></script>\\n<script type=\"text/javascript\" id=\"slb_context\">/* <![CDATA[ */if ( !!window.jQuery ) {(function($){$(document).ready(function(){if ( !!window.SLB ) { {$.extend(SLB, {\"context\":[\"public\",\"user_guest\"]});} }})})(jQuery);}/* ]]> */</script>\\n<script type=\"text/foobox\">/* Run FooBox FREE (v2.6.0) */\\r\\n(function( FOOBOX, $, undefined ) {\\r\\n  FOOBOX.o = {wordpress: { enabled: true }, countMessage:\\'image %index of %total\\', excludes:\\'.fbx-link,.nofoobox,.nolightbox,a[href*=\"pinterest.com/pin/create/button/\"]\\', affiliate : { enabled: false }};\\r\\n  FOOBOX.init = function() {\\r\\n    $(\".fbx-link\").removeClass(\"fbx-link\");\\r\\n    $(\".gallery, .wp-block-gallery, .wp-caption, .wp-block-image, a:has(img[class*=wp-image-]), .post a:has(img[class*=wp-image-]), .foobox\").foobox(FOOBOX.o);\\r\\n  };\\r\\n})( window.FOOBOX = window.FOOBOX || {}, FooBox.$ );\\r\\n\\r\\nFooBox.ready(function() {\\r\\n\\r\\n  jQuery(\"body\").append(\"<span aria-hidden=\\\\\"true\\\\\" class=\\\\\"foobox_font_preload\\\\\" style=\\\\\"font-family:\\'foobox\\'; color:transparent; position:absolute; top:-9999px; left: -9999px;\\\\\">f</span>\");\\r\\n  FOOBOX.init();\\r\\n  jQuery(\\'body\\').on(\\'post-load\\', function(){ FOOBOX.init(); });\\r\\n\\r\\n});\\r\\n</script>\\t\\t\\t\\t<script type=\"text/javascript\">\\r\\n\\t\\t\\t\\t\\tif (window.addEventListener){\\r\\n\\t\\t\\t\\t\\t\\twindow.addEventListener(\"DOMContentLoaded\", function() {\\r\\n\\t\\t\\t\\t\\t\\t\\tvar arr = document.querySelectorAll(\"script[type=\\'text/foobox\\']\");\\r\\n\\t\\t\\t\\t\\t\\t\\tfor (var x = 0; x < arr.length; x++) {\\r\\n\\t\\t\\t\\t\\t\\t\\t\\tvar script = document.createElement(\"script\");\\r\\n\\t\\t\\t\\t\\t\\t\\t\\tscript.type = \"text/javascript\";\\r\\n\\t\\t\\t\\t\\t\\t\\t\\tscript.innerHTML = arr[x].innerHTML;\\r\\n\\t\\t\\t\\t\\t\\t\\t\\tarr[x].parentNode.replaceChild(script, arr[x]);\\r\\n\\t\\t\\t\\t\\t\\t\\t}\\r\\n\\t\\t\\t\\t\\t\\t});\\r\\n\\t\\t\\t\\t\\t} else {\\r\\n\\t\\t\\t\\t\\t\\tconsole.log(\"FooBox does not support the current browser.\");\\r\\n\\t\\t\\t\\t\\t}\\r\\n\\t\\t\\t\\t</script>\\r\\n\\t\\t\\t\\t</body>\\n</html>'"
      ]
     },
     "execution_count": 85,
     "metadata": {},
     "output_type": "execute_result"
    }
   ],
   "source": [
    "r=requests.get('http://www.jmjamison.com/events')\n",
    "r.text"
   ]
  },
  {
   "cell_type": "code",
   "execution_count": 86,
   "metadata": {},
   "outputs": [
    {
     "data": {
      "text/plain": [
       "'UTF-8'"
      ]
     },
     "execution_count": 86,
     "metadata": {},
     "output_type": "execute_result"
    }
   ],
   "source": [
    "r.encoding"
   ]
  },
  {
   "cell_type": "code",
   "execution_count": 87,
   "metadata": {},
   "outputs": [
    {
     "data": {
      "text/plain": [
       "b'<!DOCTYPE html>\\n<html lang=\"en-US\">\\n<head>\\n    <meta charset=\"UTF-8\">\\n    <meta name=\"viewport\" content=\"width=device-width, initial-scale=1\">\\n    <meta http-equiv=\"X-UA-Compatible\" content=\"IE=edge\">\\n    <link rel=\"profile\" href=\"http://gmpg.org/xfn/11\">\\n    <link rel=\"pingback\" href=\"http://www.jmjamison.com/xmlrpc.php\">\\n<title>Page not found &#8211; j.m.jamison&#039;s site of perpetual reconstruction &amp; backyard dyer blog</title>\\n<script type=\\'text/javascript\\'>function ctSetCookie(c_name, value, def_value){document.cookie = c_name + \\'=\\' + escape(value) + \\'; path=/\\';}ctSetCookie(\\'ct_checkjs\\', \\'433613939\\', \\'0\\');</script><link rel=\\'dns-prefetch\\' href=\\'//use.fontawesome.com\\' />\\n<link rel=\\'dns-prefetch\\' href=\\'//s.w.org\\' />\\n<link rel=\"alternate\" type=\"application/rss+xml\" title=\"j.m.jamison&#039;s site of perpetual reconstruction &amp; backyard dyer blog &raquo; Feed\" href=\"http://www.jmjamison.com/feed/\" />\\n<link rel=\"alternate\" type=\"application/rss+xml\" title=\"j.m.jamison&#039;s site of perpetual reconstruction &amp; backyard dyer blog &raquo; Comments Feed\" href=\"http://www.jmjamison.com/comments/feed/\" />\\n\\t\\t<script type=\"text/javascript\">\\n\\t\\t\\twindow._wpemojiSettings = {\"baseUrl\":\"https:\\\\/\\\\/s.w.org\\\\/images\\\\/core\\\\/emoji\\\\/11\\\\/72x72\\\\/\",\"ext\":\".png\",\"svgUrl\":\"https:\\\\/\\\\/s.w.org\\\\/images\\\\/core\\\\/emoji\\\\/11\\\\/svg\\\\/\",\"svgExt\":\".svg\",\"source\":{\"concatemoji\":\"http:\\\\/\\\\/www.jmjamison.com\\\\/wp-includes\\\\/js\\\\/wp-emoji-release.min.js?ver=4.9.8\"}};\\n\\t\\t\\t!function(a,b,c){function d(a,b){var c=String.fromCharCode;l.clearRect(0,0,k.width,k.height),l.fillText(c.apply(this,a),0,0);var d=k.toDataURL();l.clearRect(0,0,k.width,k.height),l.fillText(c.apply(this,b),0,0);var e=k.toDataURL();return d===e}function e(a){var b;if(!l||!l.fillText)return!1;switch(l.textBaseline=\"top\",l.font=\"600 32px Arial\",a){case\"flag\":return!(b=d([55356,56826,55356,56819],[55356,56826,8203,55356,56819]))&&(b=d([55356,57332,56128,56423,56128,56418,56128,56421,56128,56430,56128,56423,56128,56447],[55356,57332,8203,56128,56423,8203,56128,56418,8203,56128,56421,8203,56128,56430,8203,56128,56423,8203,56128,56447]),!b);case\"emoji\":return b=d([55358,56760,9792,65039],[55358,56760,8203,9792,65039]),!b}return!1}function f(a){var c=b.createElement(\"script\");c.src=a,c.defer=c.type=\"text/javascript\",b.getElementsByTagName(\"head\")[0].appendChild(c)}var g,h,i,j,k=b.createElement(\"canvas\"),l=k.getContext&&k.getContext(\"2d\");for(j=Array(\"flag\",\"emoji\"),c.supports={everything:!0,everythingExceptFlag:!0},i=0;i<j.length;i++)c.supports[j[i]]=e(j[i]),c.supports.everything=c.supports.everything&&c.supports[j[i]],\"flag\"!==j[i]&&(c.supports.everythingExceptFlag=c.supports.everythingExceptFlag&&c.supports[j[i]]);c.supports.everythingExceptFlag=c.supports.everythingExceptFlag&&!c.supports.flag,c.DOMReady=!1,c.readyCallback=function(){c.DOMReady=!0},c.supports.everything||(h=function(){c.readyCallback()},b.addEventListener?(b.addEventListener(\"DOMContentLoaded\",h,!1),a.addEventListener(\"load\",h,!1)):(a.attachEvent(\"onload\",h),b.attachEvent(\"onreadystatechange\",function(){\"complete\"===b.readyState&&c.readyCallback()})),g=c.source||{},g.concatemoji?f(g.concatemoji):g.wpemoji&&g.twemoji&&(f(g.twemoji),f(g.wpemoji)))}(window,document,window._wpemojiSettings);\\n\\t\\t</script>\\n\\t\\t<style type=\"text/css\">\\nimg.wp-smiley,\\nimg.emoji {\\n\\tdisplay: inline !important;\\n\\tborder: none !important;\\n\\tbox-shadow: none !important;\\n\\theight: 1em !important;\\n\\twidth: 1em !important;\\n\\tmargin: 0 .07em !important;\\n\\tvertical-align: -0.1em !important;\\n\\tbackground: none !important;\\n\\tpadding: 0 !important;\\n}\\n</style>\\n<link rel=\\'stylesheet\\' id=\\'foobox-free-min-css\\'  href=\\'http://www.jmjamison.com/wp-content/plugins/foobox-image-lightbox/free/css/foobox.free.min.css?ver=2.6.0\\' type=\\'text/css\\' media=\\'all\\' />\\n<link rel=\\'stylesheet\\' id=\\'Total_Soft_Portfolio-css\\'  href=\\'http://www.jmjamison.com/wp-content/plugins/gallery-portfolio/CSS/Total-Soft-Portfolio-Widget.css?ver=4.9.8\\' type=\\'text/css\\' media=\\'all\\' />\\n<link rel=\\'stylesheet\\' id=\\'Total_Soft_Portfolio2-css\\'  href=\\'http://www.jmjamison.com/wp-content/plugins/gallery-portfolio/CSS/Filt_popup.min.css?ver=4.9.8\\' type=\\'text/css\\' media=\\'all\\' />\\n<link rel=\\'stylesheet\\' id=\\'fontawesome-css-css\\'  href=\\'http://www.jmjamison.com/wp-content/plugins/gallery-portfolio/CSS/totalsoft.css?ver=4.9.8\\' type=\\'text/css\\' media=\\'all\\' />\\n<link rel=\\'stylesheet\\' id=\\'bwg_sumoselect-css\\'  href=\\'http://www.jmjamison.com/wp-content/plugins/photo-gallery/css/sumoselect.min.css?ver=3.0.3\\' type=\\'text/css\\' media=\\'all\\' />\\n<link rel=\\'stylesheet\\' id=\\'bwg_font-awesome-css\\'  href=\\'http://www.jmjamison.com/wp-content/plugins/photo-gallery/css/font-awesome/font-awesome.min.css?ver=4.6.3\\' type=\\'text/css\\' media=\\'all\\' />\\n<link rel=\\'stylesheet\\' id=\\'bwg_mCustomScrollbar-css\\'  href=\\'http://www.jmjamison.com/wp-content/plugins/photo-gallery/css/jquery.mCustomScrollbar.min.css?ver=1.5.8\\' type=\\'text/css\\' media=\\'all\\' />\\n<link rel=\\'stylesheet\\' id=\\'bwg_frontend-css\\'  href=\\'http://www.jmjamison.com/wp-content/plugins/photo-gallery/css/bwg_frontend.css?ver=1.5.8\\' type=\\'text/css\\' media=\\'all\\' />\\n<link rel=\\'stylesheet\\' id=\\'tabs_rpvsrc_style-css\\'  href=\\'http://www.jmjamison.com/wp-content/plugins/tabs-recent-posts-vs-recent-comments/inc/style.css?ver=4.9.8\\' type=\\'text/css\\' media=\\'all\\' />\\n<link rel=\\'stylesheet\\' id=\\'wp-bootstrap-starter-bootstrap-css-css\\'  href=\\'http://www.jmjamison.com/wp-content/themes/wp-bootstrap-starter/inc/assets/css/bootstrap.min.css?ver=4.9.8\\' type=\\'text/css\\' media=\\'all\\' />\\n<link rel=\\'stylesheet\\' id=\\'wp-bootstrap-pro-fontawesome-cdn-css\\'  href=\\'https://use.fontawesome.com/releases/v5.1.0/css/all.css?ver=4.9.8\\' type=\\'text/css\\' media=\\'all\\' />\\n<link rel=\\'stylesheet\\' id=\\'wp-bootstrap-starter-style-css\\'  href=\\'http://www.jmjamison.com/wp-content/themes/wp-bootstrap-starter/style.css?ver=4.9.8\\' type=\\'text/css\\' media=\\'all\\' />\\n<link rel=\\'stylesheet\\' id=\\'slb_core-css\\'  href=\\'http://www.jmjamison.com/wp-content/plugins/simple-lightbox/client/css/app.css?ver=2.7.0\\' type=\\'text/css\\' media=\\'all\\' />\\n<script type=\\'text/javascript\\' src=\\'http://www.jmjamison.com/wp-includes/js/jquery/jquery.js?ver=1.12.4\\'></script>\\n<script type=\\'text/javascript\\' src=\\'http://www.jmjamison.com/wp-includes/js/jquery/jquery-migrate.min.js?ver=1.4.1\\'></script>\\n<script type=\\'text/javascript\\' src=\\'http://www.jmjamison.com/wp-content/plugins/cleantalk-spam-protect/js/apbct-public.js?ver=5.108.1\\'></script>\\n<script type=\\'text/javascript\\'>\\n/* <![CDATA[ */\\nvar ctPublic = {\"gdpr_forms\":[],\"gdpr_text\":\"By using this form you agree with the storage and processing of your data by using the Privacy Policy on this website.\"};\\n/* ]]> */\\n</script>\\n<script type=\\'text/javascript\\' src=\\'http://www.jmjamison.com/wp-content/plugins/cleantalk-spam-protect/js/apbct-public--gdpr.js?ver=5.108.1\\'></script>\\n<script type=\\'text/javascript\\'>\\n/* <![CDATA[ */\\nvar ctNocache = {\"ajaxurl\":\"http:\\\\/\\\\/www.jmjamison.com\\\\/wp-admin\\\\/admin-ajax.php\",\"info_flag\":\"\",\"set_cookies_flag\":\"\",\"blog_home\":\"http:\\\\/\\\\/www.jmjamison.com\\\\/\"};\\n/* ]]> */\\n</script>\\n<script type=\\'text/javascript\\' src=\\'http://www.jmjamison.com/wp-content/plugins/cleantalk-spam-protect/inc/cleantalk_nocache.js?ver=5.108.1\\'></script>\\n<script type=\\'text/javascript\\' src=\\'http://www.jmjamison.com/wp-includes/js/jquery/ui/core.min.js?ver=1.11.4\\'></script>\\n<script type=\\'text/javascript\\'>\\n/* <![CDATA[ */\\nvar object = {\"ajaxurl\":\"http:\\\\/\\\\/www.jmjamison.com\\\\/wp-admin\\\\/admin-ajax.php\"};\\n/* ]]> */\\n</script>\\n<script type=\\'text/javascript\\' src=\\'http://www.jmjamison.com/wp-content/plugins/gallery-portfolio/JS/Total-Soft-Portfolio-Widget.js?ver=4.9.8\\'></script>\\n<!--[if lt IE 9]>\\n<script type=\\'text/javascript\\' src=\\'http://www.jmjamison.com/wp-content/themes/wp-bootstrap-starter/inc/assets/js/html5.js?ver=3.7.0\\'></script>\\n<![endif]-->\\n<script type=\\'text/javascript\\' src=\\'http://www.jmjamison.com/wp-content/plugins/foobox-image-lightbox/free/js/foobox.free.min.js?ver=2.6.0\\'></script>\\n<link rel=\\'https://api.w.org/\\' href=\\'http://www.jmjamison.com/wp-json/\\' />\\n<link rel=\"EditURI\" type=\"application/rsd+xml\" title=\"RSD\" href=\"http://www.jmjamison.com/xmlrpc.php?rsd\" />\\n<link rel=\"wlwmanifest\" type=\"application/wlwmanifest+xml\" href=\"http://www.jmjamison.com/wp-includes/wlwmanifest.xml\" /> \\n<meta name=\"generator\" content=\"WordPress 4.9.8\" />\\n<!-- <meta name=\"NextGEN\" version=\"3.0.16\" /> -->\\n    <style type=\"text/css\">\\n        #page-sub-header { background: #fff; }\\n    </style>\\n    \\t<style type=\"text/css\">\\n\\t        a.site-title,\\n\\t\\t.site-description {\\n\\t\\t\\tcolor: #000000;\\n\\t\\t}\\n\\t\\t</style>\\n\\t\\t\\t<style type=\"text/css\" id=\"wp-custom-css\">\\n\\t\\t\\theader#masthead {\\n    margin-bottom: 0;\\n    background-color: #a29c9c;\\n    box-shadow: 0 0.5rem 1rem rgba(0,0,0,.05), inset 0 -1px 0 rgba(0,0,0,.1);\\n    padding: .74rem 1rem;\\n}\\n\\n.navbar-brand > a {\\n    color: rgba(0, 0, 0, 0.9);\\n    font-size: 1.1rem;\\n    outline: medium none;\\n    text-decoration: none;\\n    font-weight: 100;\\n}\\nbody:not(.theme-preset-active) footer#colophon {\\n  color: #fff;\\n  background-color: #a29c9c;\\n}\\t\\t</style>\\n\\t</head>\\n\\n<body class=\"error404 hfeed\">\\n<div id=\"page\" class=\"site\">\\n\\t<a class=\"skip-link screen-reader-text\" href=\"#content\">Skip to content</a>\\n    \\t<header id=\"masthead\" class=\"site-header navbar-static-top navbar-light\" role=\"banner\">\\n        <div class=\"container\">\\n            <nav class=\"navbar navbar-expand-xl p-0\">\\n                <div class=\"navbar-brand\">\\n                                            <a class=\"site-title\" href=\"http://www.jmjamison.com/\">j.m.jamison&#039;s site of perpetual reconstruction &amp; backyard dyer blog</a>\\n                    \\n                </div>\\n                <button class=\"navbar-toggler\" type=\"button\" data-toggle=\"collapse\" data-target=\"#main-nav\" aria-controls=\"\" aria-expanded=\"false\" aria-label=\"Toggle navigation\">\\n                    <span class=\"navbar-toggler-icon\"></span>\\n                </button>\\n\\n                <div id=\"main-nav\" class=\"collapse navbar-collapse justify-content-end\"><ul id=\"menu-main_menu\" class=\"navbar-nav\"><li id=\"menu-item-1468\" class=\"nav-item menu-item menu-item-type-post_type menu-item-object-page current_page_parent menu-item-1468\"><a title=\"backyard dyer\" href=\"http://www.jmjamison.com/posts/\" class=\"nav-link\">backyard dyer</a></li>\\n<li id=\"menu-item-36\" class=\"nav-item menu-item menu-item-type-custom menu-item-object-custom menu-item-home menu-item-36\"><a title=\"home\" href=\"http://www.jmjamison.com/\" class=\"nav-link\">home</a></li>\\n<li id=\"menu-item-45\" class=\"nav-item menu-item menu-item-type-post_type menu-item-object-page menu-item-45\"><a title=\"Paintings\" href=\"http://www.jmjamison.com/paintings/\" class=\"nav-link\">Paintings</a></li>\\n<li id=\"menu-item-1543\" class=\"nav-item menu-item menu-item-type-post_type menu-item-object-page menu-item-1543\"><a title=\"Weaving\" href=\"http://www.jmjamison.com/weaving-textile/\" class=\"nav-link\">Weaving</a></li>\\n<li id=\"menu-item-44\" class=\"nav-item menu-item menu-item-type-post_type menu-item-object-page menu-item-44\"><a title=\"Prints\" href=\"http://www.jmjamison.com/prints/\" class=\"nav-link\">Prints</a></li>\\n<li id=\"menu-item-1508\" class=\"nav-item menu-item menu-item-type-post_type menu-item-object-page menu-item-1508\"><a title=\"About (backyard dyer)\" href=\"http://www.jmjamison.com/about/\" class=\"nav-link\">About (backyard dyer)</a></li>\\n</ul></div>\\n            </nav>\\n        </div>\\n\\t</header><!-- #masthead -->\\n    \\t<div id=\"content\" class=\"site-content\">\\n\\t\\t<div class=\"container\">\\n\\t\\t\\t<div class=\"row\">\\n                \\n\\t<section id=\"primary\" class=\"content-area col-sm-12 col-lg-8\">\\n\\t\\t<main id=\"main\" class=\"site-main\" role=\"main\">\\n\\n\\t\\t\\t<section class=\"error-404 not-found\">\\n\\t\\t\\t\\t<header class=\"page-header\">\\n\\t\\t\\t\\t\\t<h1 class=\"page-title\">Oops! That page can&rsquo;t be found.</h1>\\n\\t\\t\\t\\t</header><!-- .page-header -->\\n\\n\\t\\t\\t\\t<div class=\"page-content\">\\n\\t\\t\\t\\t\\t<p>It looks like nothing was found at this location. Maybe try one of the links below or a search?</p>\\n\\n\\t\\t\\t\\t\\t<form role=\"search\" method=\"get\" class=\"search-form\" action=\"http://www.jmjamison.com/\">\\r\\n    <label>\\r\\n        <input type=\"search\" class=\"search-field form-control\" placeholder=\"Search &hellip;\" value=\"\" name=\"s\" title=\"Search for:\">\\r\\n    </label>\\r\\n    <input type=\"submit\" class=\"search-submit btn btn-default\" value=\"Search\">\\r\\n</form>\\r\\n\\r\\n\\r\\n\\r\\n\\n\\t\\t\\t\\t</div><!-- .page-content -->\\n\\t\\t\\t</section><!-- .error-404 -->\\n\\n\\t\\t</main><!-- #main -->\\n\\t</section><!-- #primary -->\\n\\n\\n<aside id=\"secondary\" class=\"widget-area col-sm-12 col-lg-4\" role=\"complementary\">\\n\\t<section id=\"search-2\" class=\"widget-odd widget-first widget-1 widget widget_search\"><form role=\"search\" method=\"get\" class=\"search-form\" action=\"http://www.jmjamison.com/\">\\r\\n    <label>\\r\\n        <input type=\"search\" class=\"search-field form-control\" placeholder=\"Search &hellip;\" value=\"\" name=\"s\" title=\"Search for:\">\\r\\n    </label>\\r\\n    <input type=\"submit\" class=\"search-submit btn btn-default\" value=\"Search\">\\r\\n</form>\\r\\n\\r\\n\\r\\n\\r\\n</section>\\t\\t<section id=\"recent-posts-2\" class=\"widget-even widget-2 widget widget_recent_entries\">\\t\\t<h3 class=\"widget-title\">Recent Posts</h3>\\t\\t<ul>\\n\\t\\t\\t\\t\\t\\t\\t\\t\\t\\t\\t<li>\\n\\t\\t\\t\\t\\t<a href=\"http://www.jmjamison.com/blog-moving-day/\">Blog Moving Day</a>\\n\\t\\t\\t\\t\\t\\t\\t\\t\\t</li>\\n\\t\\t\\t\\t\\t\\t\\t\\t\\t\\t\\t<li>\\n\\t\\t\\t\\t\\t<a href=\"http://www.jmjamison.com/oxalis-wood-sorrel-season-again/\">Oxalis / Wood Sorrel Season (Again)</a>\\n\\t\\t\\t\\t\\t\\t\\t\\t\\t</li>\\n\\t\\t\\t\\t\\t\\t\\t\\t\\t\\t\\t<li>\\n\\t\\t\\t\\t\\t<a href=\"http://www.jmjamison.com/dyeing-with-rosemary-rosmarinus-officinalis/\">Dyeing with Rosemary (Rosmarinus officinalis)</a>\\n\\t\\t\\t\\t\\t\\t\\t\\t\\t</li>\\n\\t\\t\\t\\t\\t\\t\\t\\t\\t\\t\\t<li>\\n\\t\\t\\t\\t\\t<a href=\"http://www.jmjamison.com/more-weld/\">More Weld</a>\\n\\t\\t\\t\\t\\t\\t\\t\\t\\t</li>\\n\\t\\t\\t\\t\\t\\t\\t\\t\\t\\t\\t<li>\\n\\t\\t\\t\\t\\t<a href=\"http://www.jmjamison.com/march-2016-weld-and-woad/\">March 2016 Weld and Woad</a>\\n\\t\\t\\t\\t\\t\\t\\t\\t\\t</li>\\n\\t\\t\\t\\t\\t\\t\\t\\t\\t\\t\\t<li>\\n\\t\\t\\t\\t\\t<a href=\"http://www.jmjamison.com/bubblegum-pink/\">Bubblegum Pink</a>\\n\\t\\t\\t\\t\\t\\t\\t\\t\\t</li>\\n\\t\\t\\t\\t\\t\\t\\t\\t\\t\\t\\t<li>\\n\\t\\t\\t\\t\\t<a href=\"http://www.jmjamison.com/june-july-weld-plants/\">June-July Weld Plants</a>\\n\\t\\t\\t\\t\\t\\t\\t\\t\\t</li>\\n\\t\\t\\t\\t\\t\\t\\t\\t\\t\\t\\t<li>\\n\\t\\t\\t\\t\\t<a href=\"http://www.jmjamison.com/why-i-dont-like-the-word-natural/\">Why I Don&#8217;t Like the Word &#8220;Natural&#8221;</a>\\n\\t\\t\\t\\t\\t\\t\\t\\t\\t</li>\\n\\t\\t\\t\\t\\t\\t\\t\\t\\t\\t\\t<li>\\n\\t\\t\\t\\t\\t<a href=\"http://www.jmjamison.com/another-generation-of-fiber-artists/\">Another generation of fiber artists</a>\\n\\t\\t\\t\\t\\t\\t\\t\\t\\t</li>\\n\\t\\t\\t\\t\\t\\t\\t\\t\\t\\t\\t<li>\\n\\t\\t\\t\\t\\t<a href=\"http://www.jmjamison.com/back-on-the-woad-track/\">Back on the Woad Track</a>\\n\\t\\t\\t\\t\\t\\t\\t\\t\\t</li>\\n\\t\\t\\t\\t\\t</ul>\\n\\t\\t</section><section id=\"archives-2\" class=\"widget-odd widget-last widget-3 widget widget_archive\"><h3 class=\"widget-title\">Archives</h3>\\t\\t<ul>\\n\\t\\t\\t<li><a href=\\'http://www.jmjamison.com/2018/04/\\'>April 2018</a></li>\\n\\t<li><a href=\\'http://www.jmjamison.com/2017/02/\\'>February 2017</a></li>\\n\\t<li><a href=\\'http://www.jmjamison.com/2016/07/\\'>July 2016</a></li>\\n\\t<li><a href=\\'http://www.jmjamison.com/2016/05/\\'>May 2016</a></li>\\n\\t<li><a href=\\'http://www.jmjamison.com/2016/03/\\'>March 2016</a></li>\\n\\t<li><a href=\\'http://www.jmjamison.com/2015/11/\\'>November 2015</a></li>\\n\\t<li><a href=\\'http://www.jmjamison.com/2015/07/\\'>July 2015</a></li>\\n\\t<li><a href=\\'http://www.jmjamison.com/2015/04/\\'>April 2015</a></li>\\n\\t<li><a href=\\'http://www.jmjamison.com/2014/09/\\'>September 2014</a></li>\\n\\t<li><a href=\\'http://www.jmjamison.com/2014/06/\\'>June 2014</a></li>\\n\\t<li><a href=\\'http://www.jmjamison.com/2014/05/\\'>May 2014</a></li>\\n\\t<li><a href=\\'http://www.jmjamison.com/2013/12/\\'>December 2013</a></li>\\n\\t<li><a href=\\'http://www.jmjamison.com/2013/06/\\'>June 2013</a></li>\\n\\t<li><a href=\\'http://www.jmjamison.com/2013/05/\\'>May 2013</a></li>\\n\\t<li><a href=\\'http://www.jmjamison.com/2013/01/\\'>January 2013</a></li>\\n\\t<li><a href=\\'http://www.jmjamison.com/2012/11/\\'>November 2012</a></li>\\n\\t<li><a href=\\'http://www.jmjamison.com/2012/07/\\'>July 2012</a></li>\\n\\t<li><a href=\\'http://www.jmjamison.com/2012/03/\\'>March 2012</a></li>\\n\\t<li><a href=\\'http://www.jmjamison.com/2011/10/\\'>October 2011</a></li>\\n\\t<li><a href=\\'http://www.jmjamison.com/2011/08/\\'>August 2011</a></li>\\n\\t<li><a href=\\'http://www.jmjamison.com/2011/07/\\'>July 2011</a></li>\\n\\t<li><a href=\\'http://www.jmjamison.com/2011/06/\\'>June 2011</a></li>\\n\\t<li><a href=\\'http://www.jmjamison.com/2011/05/\\'>May 2011</a></li>\\n\\t<li><a href=\\'http://www.jmjamison.com/2011/02/\\'>February 2011</a></li>\\n\\t<li><a href=\\'http://www.jmjamison.com/2011/01/\\'>January 2011</a></li>\\n\\t<li><a href=\\'http://www.jmjamison.com/2010/08/\\'>August 2010</a></li>\\n\\t<li><a href=\\'http://www.jmjamison.com/2010/07/\\'>July 2010</a></li>\\n\\t<li><a href=\\'http://www.jmjamison.com/2010/06/\\'>June 2010</a></li>\\n\\t<li><a href=\\'http://www.jmjamison.com/2010/04/\\'>April 2010</a></li>\\n\\t<li><a href=\\'http://www.jmjamison.com/2010/03/\\'>March 2010</a></li>\\n\\t<li><a href=\\'http://www.jmjamison.com/2010/02/\\'>February 2010</a></li>\\n\\t<li><a href=\\'http://www.jmjamison.com/2010/01/\\'>January 2010</a></li>\\n\\t<li><a href=\\'http://www.jmjamison.com/2009/12/\\'>December 2009</a></li>\\n\\t<li><a href=\\'http://www.jmjamison.com/2009/11/\\'>November 2009</a></li>\\n\\t<li><a href=\\'http://www.jmjamison.com/2009/09/\\'>September 2009</a></li>\\n\\t<li><a href=\\'http://www.jmjamison.com/2009/08/\\'>August 2009</a></li>\\n\\t<li><a href=\\'http://www.jmjamison.com/2009/07/\\'>July 2009</a></li>\\n\\t<li><a href=\\'http://www.jmjamison.com/2009/06/\\'>June 2009</a></li>\\n\\t<li><a href=\\'http://www.jmjamison.com/2009/05/\\'>May 2009</a></li>\\n\\t<li><a href=\\'http://www.jmjamison.com/2009/03/\\'>March 2009</a></li>\\n\\t<li><a href=\\'http://www.jmjamison.com/2009/02/\\'>February 2009</a></li>\\n\\t<li><a href=\\'http://www.jmjamison.com/2008/12/\\'>December 2008</a></li>\\n\\t<li><a href=\\'http://www.jmjamison.com/2008/11/\\'>November 2008</a></li>\\n\\t<li><a href=\\'http://www.jmjamison.com/2008/10/\\'>October 2008</a></li>\\n\\t<li><a href=\\'http://www.jmjamison.com/2008/09/\\'>September 2008</a></li>\\n\\t<li><a href=\\'http://www.jmjamison.com/2008/07/\\'>July 2008</a></li>\\n\\t<li><a href=\\'http://www.jmjamison.com/2008/03/\\'>March 2008</a></li>\\n\\t<li><a href=\\'http://www.jmjamison.com/2008/01/\\'>January 2008</a></li>\\n\\t<li><a href=\\'http://www.jmjamison.com/2007/12/\\'>December 2007</a></li>\\n\\t<li><a href=\\'http://www.jmjamison.com/2007/05/\\'>May 2007</a></li>\\n\\t<li><a href=\\'http://www.jmjamison.com/2006/11/\\'>November 2006</a></li>\\n\\t\\t</ul>\\n\\t\\t</section></aside><!-- #secondary -->\\n\\t\\t\\t</div><!-- .row -->\\n\\t\\t</div><!-- .container -->\\n\\t</div><!-- #content -->\\n    \\t<footer id=\"colophon\" class=\"site-footer navbar-light\" role=\"contentinfo\">\\n\\t\\t<div class=\"container pt-3 pb-3\">\\n            <div class=\"site-info\">\\n                &copy; 2018 <a href=\"http://www.jmjamison.com\">j.m.jamison&#039;s site of perpetual reconstruction &amp; backyard dyer blog</a>                <span class=\"sep\"> | </span>\\n                <a class=\"credits\" href=\"https://afterimagedesigns.com/wp-bootstrap-starter/\" target=\"_blank\" title=\"Wordpress Technical Support\" alt=\"Bootstrap Wordpress Theme\">Bootstrap Wordpress Theme</a>\\n\\n            </div><!-- close .site-info -->\\n\\t\\t</div>\\n\\t</footer><!-- #colophon -->\\n</div><!-- #page -->\\n\\n<!-- ngg_resource_manager_marker --><script type=\\'text/javascript\\' src=\\'http://www.jmjamison.com/wp-content/plugins/photo-gallery/js/jquery.sumoselect.min.js?ver=3.0.3\\'></script>\\n<script type=\\'text/javascript\\' src=\\'http://www.jmjamison.com/wp-content/plugins/photo-gallery/js/jquery.mobile.min.js?ver=1.5.8\\'></script>\\n<script type=\\'text/javascript\\' src=\\'http://www.jmjamison.com/wp-content/plugins/photo-gallery/js/jquery.mCustomScrollbar.concat.min.js?ver=1.5.8\\'></script>\\n<script type=\\'text/javascript\\' src=\\'http://www.jmjamison.com/wp-content/plugins/photo-gallery/js/jquery.fullscreen-0.4.1.min.js?ver=0.4.1\\'></script>\\n<script type=\\'text/javascript\\'>\\n/* <![CDATA[ */\\nvar bwg_objectL10n = {\"bwg_field_required\":\"field is required.\",\"bwg_mail_validation\":\"This is not a valid email address.\",\"bwg_search_result\":\"There are no images matching your search.\",\"is_pro\":\"\"};\\n/* ]]> */\\n</script>\\n<script type=\\'text/javascript\\' src=\\'http://www.jmjamison.com/wp-content/plugins/photo-gallery/js/bwg_gallery_box.js?ver=1.5.8\\'></script>\\n<script type=\\'text/javascript\\' src=\\'http://www.jmjamison.com/wp-content/plugins/photo-gallery/js/bwg_embed.js?ver=1.5.8\\'></script>\\n<script type=\\'text/javascript\\'>\\n/* <![CDATA[ */\\nvar bwg_objectsL10n = {\"bwg_select_tag\":\"Select Tag\",\"bwg_order_by\":\"Order By\",\"bwg_search\":\"Search\",\"bwg_show_ecommerce\":\"Show Ecommerce\",\"bwg_hide_ecommerce\":\"Hide Ecommerce\",\"bwg_show_comments\":\"Show Comments\",\"bwg_hide_comments\":\"Hide Comments\",\"bwg_how_comments\":\"how Comments\",\"bwg_restore\":\"Restore\",\"bwg_maximize\":\"Maximize\",\"bwg_fullscreen\":\"Fullscreen\",\"bwg_search_tag\":\"SEARCH...\",\"bwg_tag_no_match\":\"No tags found\",\"bwg_all_tags_selected\":\"All tags selected\",\"bwg_tags_selected\":\"tags selected\",\"play\":\"Play\",\"pause\":\"Pause\",\"is_pro\":\"\"};\\n/* ]]> */\\n</script>\\n<script type=\\'text/javascript\\' src=\\'http://www.jmjamison.com/wp-content/plugins/photo-gallery/js/bwg_frontend.js?ver=1.5.8\\'></script>\\n<script type=\\'text/javascript\\' src=\\'http://www.jmjamison.com/wp-content/plugins/tabs-recent-posts-vs-recent-comments/inc/script.js?ver=1.0\\'></script>\\n<script type=\\'text/javascript\\' src=\\'http://www.jmjamison.com/wp-content/themes/wp-bootstrap-starter/inc/assets/js/popper.min.js?ver=4.9.8\\'></script>\\n<script type=\\'text/javascript\\' src=\\'http://www.jmjamison.com/wp-content/themes/wp-bootstrap-starter/inc/assets/js/bootstrap.min.js?ver=4.9.8\\'></script>\\n<script type=\\'text/javascript\\' src=\\'http://www.jmjamison.com/wp-content/themes/wp-bootstrap-starter/inc/assets/js/theme-script.min.js?ver=4.9.8\\'></script>\\n<script type=\\'text/javascript\\' src=\\'http://www.jmjamison.com/wp-content/themes/wp-bootstrap-starter/inc/assets/js/skip-link-focus-fix.min.js?ver=20151215\\'></script>\\n<script type=\\'text/javascript\\' src=\\'http://www.jmjamison.com/wp-includes/js/wp-embed.min.js?ver=4.9.8\\'></script>\\n<script type=\"text/javascript\" id=\"slb_context\">/* <![CDATA[ */if ( !!window.jQuery ) {(function($){$(document).ready(function(){if ( !!window.SLB ) { {$.extend(SLB, {\"context\":[\"public\",\"user_guest\"]});} }})})(jQuery);}/* ]]> */</script>\\n<script type=\"text/foobox\">/* Run FooBox FREE (v2.6.0) */\\r\\n(function( FOOBOX, $, undefined ) {\\r\\n  FOOBOX.o = {wordpress: { enabled: true }, countMessage:\\'image %index of %total\\', excludes:\\'.fbx-link,.nofoobox,.nolightbox,a[href*=\"pinterest.com/pin/create/button/\"]\\', affiliate : { enabled: false }};\\r\\n  FOOBOX.init = function() {\\r\\n    $(\".fbx-link\").removeClass(\"fbx-link\");\\r\\n    $(\".gallery, .wp-block-gallery, .wp-caption, .wp-block-image, a:has(img[class*=wp-image-]), .post a:has(img[class*=wp-image-]), .foobox\").foobox(FOOBOX.o);\\r\\n  };\\r\\n})( window.FOOBOX = window.FOOBOX || {}, FooBox.$ );\\r\\n\\r\\nFooBox.ready(function() {\\r\\n\\r\\n  jQuery(\"body\").append(\"<span aria-hidden=\\\\\"true\\\\\" class=\\\\\"foobox_font_preload\\\\\" style=\\\\\"font-family:\\'foobox\\'; color:transparent; position:absolute; top:-9999px; left: -9999px;\\\\\">f</span>\");\\r\\n  FOOBOX.init();\\r\\n  jQuery(\\'body\\').on(\\'post-load\\', function(){ FOOBOX.init(); });\\r\\n\\r\\n});\\r\\n</script>\\t\\t\\t\\t<script type=\"text/javascript\">\\r\\n\\t\\t\\t\\t\\tif (window.addEventListener){\\r\\n\\t\\t\\t\\t\\t\\twindow.addEventListener(\"DOMContentLoaded\", function() {\\r\\n\\t\\t\\t\\t\\t\\t\\tvar arr = document.querySelectorAll(\"script[type=\\'text/foobox\\']\");\\r\\n\\t\\t\\t\\t\\t\\t\\tfor (var x = 0; x < arr.length; x++) {\\r\\n\\t\\t\\t\\t\\t\\t\\t\\tvar script = document.createElement(\"script\");\\r\\n\\t\\t\\t\\t\\t\\t\\t\\tscript.type = \"text/javascript\";\\r\\n\\t\\t\\t\\t\\t\\t\\t\\tscript.innerHTML = arr[x].innerHTML;\\r\\n\\t\\t\\t\\t\\t\\t\\t\\tarr[x].parentNode.replaceChild(script, arr[x]);\\r\\n\\t\\t\\t\\t\\t\\t\\t}\\r\\n\\t\\t\\t\\t\\t\\t});\\r\\n\\t\\t\\t\\t\\t} else {\\r\\n\\t\\t\\t\\t\\t\\tconsole.log(\"FooBox does not support the current browser.\");\\r\\n\\t\\t\\t\\t\\t}\\r\\n\\t\\t\\t\\t</script>\\r\\n\\t\\t\\t\\t</body>\\n</html>'"
      ]
     },
     "execution_count": 87,
     "metadata": {},
     "output_type": "execute_result"
    }
   ],
   "source": [
    "r.content"
   ]
  },
  {
   "cell_type": "code",
   "execution_count": 88,
   "metadata": {},
   "outputs": [
    {
     "name": "stdout",
     "output_type": "stream",
     "text": [
      "<!DOCTYPE html>\n",
      "<html lang=\"en-US\">\n",
      "<head>\n",
      "    <meta charset=\"UTF-8\">\n",
      "    <meta name=\"viewport\" content=\"width=device-width, initial-scale=1\">\n",
      "    <meta http-equiv=\"X-UA-Compatible\" content=\"IE=edge\">\n",
      "    <link rel=\"profile\" href=\"http://gmpg.org/xfn/11\">\n",
      "    <link rel=\"pingback\" href=\"http://www.jmjamison.com/xmlrpc.php\">\n",
      "<title>Page not found &#8211; j.m.jamison&#039;s site of perpetual reconstruction &amp; backyard dyer blog</title>\n",
      "<script type='text/javascript'>function ctSetCookie(c_name, value, def_value){document.cookie = c_name + '=' + escape(value) + '; path=/';}ctSetCookie('ct_checkjs', '433613939', '0');</script><link rel='dns-prefetch' href='//use.fontawesome.com' />\n",
      "<link rel='dns-prefetch' href='//s.w.org' />\n",
      "<link rel=\"alternate\" type=\"application/rss+xml\" title=\"j.m.jamison&#039;s site of perpetual reconstruction &amp; backyard dyer blog &raquo; Feed\" href=\"http://www.jmjamison.com/feed/\" />\n",
      "<link rel=\"alternate\" type=\"application/rss+xml\" title=\"j.m.jamison&#039;s site of perpetual reconstruction &amp; backyard dyer blog &raquo; Comments Feed\" href=\"http://www.jmjamison.com/comments/feed/\" />\n",
      "\t\t<script type=\"text/javascript\">\n",
      "\t\t\twindow._wpemojiSettings = {\"baseUrl\":\"https:\\/\\/s.w.org\\/images\\/core\\/emoji\\/11\\/72x72\\/\",\"ext\":\".png\",\"svgUrl\":\"https:\\/\\/s.w.org\\/images\\/core\\/emoji\\/11\\/svg\\/\",\"svgExt\":\".svg\",\"source\":{\"concatemoji\":\"http:\\/\\/www.jmjamison.com\\/wp-includes\\/js\\/wp-emoji-release.min.js?ver=4.9.8\"}};\n",
      "\t\t\t!function(a,b,c){function d(a,b){var c=String.fromCharCode;l.clearRect(0,0,k.width,k.height),l.fillText(c.apply(this,a),0,0);var d=k.toDataURL();l.clearRect(0,0,k.width,k.height),l.fillText(c.apply(this,b),0,0);var e=k.toDataURL();return d===e}function e(a){var b;if(!l||!l.fillText)return!1;switch(l.textBaseline=\"top\",l.font=\"600 32px Arial\",a){case\"flag\":return!(b=d([55356,56826,55356,56819],[55356,56826,8203,55356,56819]))&&(b=d([55356,57332,56128,56423,56128,56418,56128,56421,56128,56430,56128,56423,56128,56447],[55356,57332,8203,56128,56423,8203,56128,56418,8203,56128,56421,8203,56128,56430,8203,56128,56423,8203,56128,56447]),!b);case\"emoji\":return b=d([55358,56760,9792,65039],[55358,56760,8203,9792,65039]),!b}return!1}function f(a){var c=b.createElement(\"script\");c.src=a,c.defer=c.type=\"text/javascript\",b.getElementsByTagName(\"head\")[0].appendChild(c)}var g,h,i,j,k=b.createElement(\"canvas\"),l=k.getContext&&k.getContext(\"2d\");for(j=Array(\"flag\",\"emoji\"),c.supports={everything:!0,everythingExceptFlag:!0},i=0;i<j.length;i++)c.supports[j[i]]=e(j[i]),c.supports.everything=c.supports.everything&&c.supports[j[i]],\"flag\"!==j[i]&&(c.supports.everythingExceptFlag=c.supports.everythingExceptFlag&&c.supports[j[i]]);c.supports.everythingExceptFlag=c.supports.everythingExceptFlag&&!c.supports.flag,c.DOMReady=!1,c.readyCallback=function(){c.DOMReady=!0},c.supports.everything||(h=function(){c.readyCallback()},b.addEventListener?(b.addEventListener(\"DOMContentLoaded\",h,!1),a.addEventListener(\"load\",h,!1)):(a.attachEvent(\"onload\",h),b.attachEvent(\"onreadystatechange\",function(){\"complete\"===b.readyState&&c.readyCallback()})),g=c.source||{},g.concatemoji?f(g.concatemoji):g.wpemoji&&g.twemoji&&(f(g.twemoji),f(g.wpemoji)))}(window,document,window._wpemojiSettings);\n",
      "\t\t</script>\n",
      "\t\t<style type=\"text/css\">\n",
      "img.wp-smiley,\n",
      "img.emoji {\n",
      "\tdisplay: inline !important;\n",
      "\tborder: none !important;\n",
      "\tbox-shadow: none !important;\n",
      "\theight: 1em !important;\n",
      "\twidth: 1em !important;\n",
      "\tmargin: 0 .07em !important;\n",
      "\tvertical-align: -0.1em !important;\n",
      "\tbackground: none !important;\n",
      "\tpadding: 0 !important;\n",
      "}\n",
      "</style>\n",
      "<link rel='stylesheet' id='foobox-free-min-css'  href='http://www.jmjamison.com/wp-content/plugins/foobox-image-lightbox/free/css/foobox.free.min.css?ver=2.6.0' type='text/css' media='all' />\n",
      "<link rel='stylesheet' id='Total_Soft_Portfolio-css'  href='http://www.jmjamison.com/wp-content/plugins/gallery-portfolio/CSS/Total-Soft-Portfolio-Widget.css?ver=4.9.8' type='text/css' media='all' />\n",
      "<link rel='stylesheet' id='Total_Soft_Portfolio2-css'  href='http://www.jmjamison.com/wp-content/plugins/gallery-portfolio/CSS/Filt_popup.min.css?ver=4.9.8' type='text/css' media='all' />\n",
      "<link rel='stylesheet' id='fontawesome-css-css'  href='http://www.jmjamison.com/wp-content/plugins/gallery-portfolio/CSS/totalsoft.css?ver=4.9.8' type='text/css' media='all' />\n",
      "<link rel='stylesheet' id='bwg_sumoselect-css'  href='http://www.jmjamison.com/wp-content/plugins/photo-gallery/css/sumoselect.min.css?ver=3.0.3' type='text/css' media='all' />\n",
      "<link rel='stylesheet' id='bwg_font-awesome-css'  href='http://www.jmjamison.com/wp-content/plugins/photo-gallery/css/font-awesome/font-awesome.min.css?ver=4.6.3' type='text/css' media='all' />\n",
      "<link rel='stylesheet' id='bwg_mCustomScrollbar-css'  href='http://www.jmjamison.com/wp-content/plugins/photo-gallery/css/jquery.mCustomScrollbar.min.css?ver=1.5.8' type='text/css' media='all' />\n",
      "<link rel='stylesheet' id='bwg_frontend-css'  href='http://www.jmjamison.com/wp-content/plugins/photo-gallery/css/bwg_frontend.css?ver=1.5.8' type='text/css' media='all' />\n",
      "<link rel='stylesheet' id='tabs_rpvsrc_style-css'  href='http://www.jmjamison.com/wp-content/plugins/tabs-recent-posts-vs-recent-comments/inc/style.css?ver=4.9.8' type='text/css' media='all' />\n",
      "<link rel='stylesheet' id='wp-bootstrap-starter-bootstrap-css-css'  href='http://www.jmjamison.com/wp-content/themes/wp-bootstrap-starter/inc/assets/css/bootstrap.min.css?ver=4.9.8' type='text/css' media='all' />\n",
      "<link rel='stylesheet' id='wp-bootstrap-pro-fontawesome-cdn-css'  href='https://use.fontawesome.com/releases/v5.1.0/css/all.css?ver=4.9.8' type='text/css' media='all' />\n",
      "<link rel='stylesheet' id='wp-bootstrap-starter-style-css'  href='http://www.jmjamison.com/wp-content/themes/wp-bootstrap-starter/style.css?ver=4.9.8' type='text/css' media='all' />\n",
      "<link rel='stylesheet' id='slb_core-css'  href='http://www.jmjamison.com/wp-content/plugins/simple-lightbox/client/css/app.css?ver=2.7.0' type='text/css' media='all' />\n",
      "<script type='text/javascript' src='http://www.jmjamison.com/wp-includes/js/jquery/jquery.js?ver=1.12.4'></script>\n",
      "<script type='text/javascript' src='http://www.jmjamison.com/wp-includes/js/jquery/jquery-migrate.min.js?ver=1.4.1'></script>\n",
      "<script type='text/javascript' src='http://www.jmjamison.com/wp-content/plugins/cleantalk-spam-protect/js/apbct-public.js?ver=5.108.1'></script>\n",
      "<script type='text/javascript'>\n",
      "/* <![CDATA[ */\n",
      "var ctPublic = {\"gdpr_forms\":[],\"gdpr_text\":\"By using this form you agree with the storage and processing of your data by using the Privacy Policy on this website.\"};\n",
      "/* ]]> */\n",
      "</script>\n",
      "<script type='text/javascript' src='http://www.jmjamison.com/wp-content/plugins/cleantalk-spam-protect/js/apbct-public--gdpr.js?ver=5.108.1'></script>\n",
      "<script type='text/javascript'>\n",
      "/* <![CDATA[ */\n",
      "var ctNocache = {\"ajaxurl\":\"http:\\/\\/www.jmjamison.com\\/wp-admin\\/admin-ajax.php\",\"info_flag\":\"\",\"set_cookies_flag\":\"\",\"blog_home\":\"http:\\/\\/www.jmjamison.com\\/\"};\n",
      "/* ]]> */\n",
      "</script>\n",
      "<script type='text/javascript' src='http://www.jmjamison.com/wp-content/plugins/cleantalk-spam-protect/inc/cleantalk_nocache.js?ver=5.108.1'></script>\n",
      "<script type='text/javascript' src='http://www.jmjamison.com/wp-includes/js/jquery/ui/core.min.js?ver=1.11.4'></script>\n",
      "<script type='text/javascript'>\n",
      "/* <![CDATA[ */\n",
      "var object = {\"ajaxurl\":\"http:\\/\\/www.jmjamison.com\\/wp-admin\\/admin-ajax.php\"};\n",
      "/* ]]> */\n",
      "</script>\n",
      "<script type='text/javascript' src='http://www.jmjamison.com/wp-content/plugins/gallery-portfolio/JS/Total-Soft-Portfolio-Widget.js?ver=4.9.8'></script>\n",
      "<!--[if lt IE 9]>\n",
      "<script type='text/javascript' src='http://www.jmjamison.com/wp-content/themes/wp-bootstrap-starter/inc/assets/js/html5.js?ver=3.7.0'></script>\n",
      "<![endif]-->\n",
      "<script type='text/javascript' src='http://www.jmjamison.com/wp-content/plugins/foobox-image-lightbox/free/js/foobox.free.min.js?ver=2.6.0'></script>\n",
      "<link rel='https://api.w.org/' href='http://www.jmjamison.com/wp-json/' />\n",
      "<link rel=\"EditURI\" type=\"application/rsd+xml\" title=\"RSD\" href=\"http://www.jmjamison.com/xmlrpc.php?rsd\" />\n",
      "<link rel=\"wlwmanifest\" type=\"application/wlwmanifest+xml\" href=\"http://www.jmjamison.com/wp-includes/wlwmanifest.xml\" /> \n",
      "<meta name=\"generator\" content=\"WordPress 4.9.8\" />\n",
      "<!-- <meta name=\"NextGEN\" version=\"3.0.16\" /> -->\n",
      "    <style type=\"text/css\">\n",
      "        #page-sub-header { background: #fff; }\n",
      "    </style>\n",
      "    \t<style type=\"text/css\">\n",
      "\t        a.site-title,\n",
      "\t\t.site-description {\n",
      "\t\t\tcolor: #000000;\n",
      "\t\t}\n",
      "\t\t</style>\n",
      "\t\t\t<style type=\"text/css\" id=\"wp-custom-css\">\n",
      "\t\t\theader#masthead {\n",
      "    margin-bottom: 0;\n",
      "    background-color: #a29c9c;\n",
      "    box-shadow: 0 0.5rem 1rem rgba(0,0,0,.05), inset 0 -1px 0 rgba(0,0,0,.1);\n",
      "    padding: .74rem 1rem;\n",
      "}\n",
      "\n",
      ".navbar-brand > a {\n",
      "    color: rgba(0, 0, 0, 0.9);\n",
      "    font-size: 1.1rem;\n",
      "    outline: medium none;\n",
      "    text-decoration: none;\n",
      "    font-weight: 100;\n",
      "}\n",
      "body:not(.theme-preset-active) footer#colophon {\n",
      "  color: #fff;\n",
      "  background-color: #a29c9c;\n",
      "}\t\t</style>\n",
      "\t</head>\n",
      "\n",
      "<body class=\"error404 hfeed\">\n",
      "<div id=\"page\" class=\"site\">\n",
      "\t<a class=\"skip-link screen-reader-text\" href=\"#content\">Skip to content</a>\n",
      "    \t<header id=\"masthead\" class=\"site-header navbar-static-top navbar-light\" role=\"banner\">\n",
      "        <div class=\"container\">\n",
      "            <nav class=\"navbar navbar-expand-xl p-0\">\n",
      "                <div class=\"navbar-brand\">\n",
      "                                            <a class=\"site-title\" href=\"http://www.jmjamison.com/\">j.m.jamison&#039;s site of perpetual reconstruction &amp; backyard dyer blog</a>\n",
      "                    \n",
      "                </div>\n",
      "                <button class=\"navbar-toggler\" type=\"button\" data-toggle=\"collapse\" data-target=\"#main-nav\" aria-controls=\"\" aria-expanded=\"false\" aria-label=\"Toggle navigation\">\n",
      "                    <span class=\"navbar-toggler-icon\"></span>\n",
      "                </button>\n",
      "\n",
      "                <div id=\"main-nav\" class=\"collapse navbar-collapse justify-content-end\"><ul id=\"menu-main_menu\" class=\"navbar-nav\"><li id=\"menu-item-1468\" class=\"nav-item menu-item menu-item-type-post_type menu-item-object-page current_page_parent menu-item-1468\"><a title=\"backyard dyer\" href=\"http://www.jmjamison.com/posts/\" class=\"nav-link\">backyard dyer</a></li>\n",
      "<li id=\"menu-item-36\" class=\"nav-item menu-item menu-item-type-custom menu-item-object-custom menu-item-home menu-item-36\"><a title=\"home\" href=\"http://www.jmjamison.com/\" class=\"nav-link\">home</a></li>\n",
      "<li id=\"menu-item-45\" class=\"nav-item menu-item menu-item-type-post_type menu-item-object-page menu-item-45\"><a title=\"Paintings\" href=\"http://www.jmjamison.com/paintings/\" class=\"nav-link\">Paintings</a></li>\n",
      "<li id=\"menu-item-1543\" class=\"nav-item menu-item menu-item-type-post_type menu-item-object-page menu-item-1543\"><a title=\"Weaving\" href=\"http://www.jmjamison.com/weaving-textile/\" class=\"nav-link\">Weaving</a></li>\n",
      "<li id=\"menu-item-44\" class=\"nav-item menu-item menu-item-type-post_type menu-item-object-page menu-item-44\"><a title=\"Prints\" href=\"http://www.jmjamison.com/prints/\" class=\"nav-link\">Prints</a></li>\n",
      "<li id=\"menu-item-1508\" class=\"nav-item menu-item menu-item-type-post_type menu-item-object-page menu-item-1508\"><a title=\"About (backyard dyer)\" href=\"http://www.jmjamison.com/about/\" class=\"nav-link\">About (backyard dyer)</a></li>\n",
      "</ul></div>\n",
      "            </nav>\n",
      "        </div>\n",
      "\t</header><!-- #masthead -->\n",
      "    \t<div id=\"content\" class=\"site-content\">\n",
      "\t\t<div class=\"container\">\n",
      "\t\t\t<div class=\"row\">\n",
      "                \n",
      "\t<section id=\"primary\" class=\"content-area col-sm-12 col-lg-8\">\n",
      "\t\t<main id=\"main\" class=\"site-main\" role=\"main\">\n",
      "\n",
      "\t\t\t<section class=\"error-404 not-found\">\n",
      "\t\t\t\t<header class=\"page-header\">\n",
      "\t\t\t\t\t<h1 class=\"page-title\">Oops! That page can&rsquo;t be found.</h1>\n",
      "\t\t\t\t</header><!-- .page-header -->\n",
      "\n",
      "\t\t\t\t<div class=\"page-content\">\n",
      "\t\t\t\t\t<p>It looks like nothing was found at this location. Maybe try one of the links below or a search?</p>\n",
      "\n",
      "\t\t\t\t\t<form role=\"search\" method=\"get\" class=\"search-form\" action=\"http://www.jmjamison.com/\">\r\n",
      "    <label>\r\n",
      "        <input type=\"search\" class=\"search-field form-control\" placeholder=\"Search &hellip;\" value=\"\" name=\"s\" title=\"Search for:\">\r\n",
      "    </label>\r\n",
      "    <input type=\"submit\" class=\"search-submit btn btn-default\" value=\"Search\">\r\n",
      "</form>\r\n",
      "\r\n",
      "\r\n",
      "\r\n",
      "\n",
      "\t\t\t\t</div><!-- .page-content -->\n",
      "\t\t\t</section><!-- .error-404 -->\n",
      "\n",
      "\t\t</main><!-- #main -->\n",
      "\t</section><!-- #primary -->\n",
      "\n",
      "\n",
      "<aside id=\"secondary\" class=\"widget-area col-sm-12 col-lg-4\" role=\"complementary\">\n",
      "\t<section id=\"search-2\" class=\"widget-odd widget-first widget-1 widget widget_search\"><form role=\"search\" method=\"get\" class=\"search-form\" action=\"http://www.jmjamison.com/\">\r\n",
      "    <label>\r\n",
      "        <input type=\"search\" class=\"search-field form-control\" placeholder=\"Search &hellip;\" value=\"\" name=\"s\" title=\"Search for:\">\r\n",
      "    </label>\r\n",
      "    <input type=\"submit\" class=\"search-submit btn btn-default\" value=\"Search\">\r\n",
      "</form>\r\n",
      "\r\n",
      "\r\n",
      "\r\n",
      "</section>\t\t<section id=\"recent-posts-2\" class=\"widget-even widget-2 widget widget_recent_entries\">\t\t<h3 class=\"widget-title\">Recent Posts</h3>\t\t<ul>\n",
      "\t\t\t\t\t\t\t\t\t\t\t<li>\n",
      "\t\t\t\t\t<a href=\"http://www.jmjamison.com/blog-moving-day/\">Blog Moving Day</a>\n",
      "\t\t\t\t\t\t\t\t\t</li>\n",
      "\t\t\t\t\t\t\t\t\t\t\t<li>\n",
      "\t\t\t\t\t<a href=\"http://www.jmjamison.com/oxalis-wood-sorrel-season-again/\">Oxalis / Wood Sorrel Season (Again)</a>\n",
      "\t\t\t\t\t\t\t\t\t</li>\n",
      "\t\t\t\t\t\t\t\t\t\t\t<li>\n",
      "\t\t\t\t\t<a href=\"http://www.jmjamison.com/dyeing-with-rosemary-rosmarinus-officinalis/\">Dyeing with Rosemary (Rosmarinus officinalis)</a>\n",
      "\t\t\t\t\t\t\t\t\t</li>\n",
      "\t\t\t\t\t\t\t\t\t\t\t<li>\n",
      "\t\t\t\t\t<a href=\"http://www.jmjamison.com/more-weld/\">More Weld</a>\n",
      "\t\t\t\t\t\t\t\t\t</li>\n",
      "\t\t\t\t\t\t\t\t\t\t\t<li>\n",
      "\t\t\t\t\t<a href=\"http://www.jmjamison.com/march-2016-weld-and-woad/\">March 2016 Weld and Woad</a>\n",
      "\t\t\t\t\t\t\t\t\t</li>\n",
      "\t\t\t\t\t\t\t\t\t\t\t<li>\n",
      "\t\t\t\t\t<a href=\"http://www.jmjamison.com/bubblegum-pink/\">Bubblegum Pink</a>\n",
      "\t\t\t\t\t\t\t\t\t</li>\n",
      "\t\t\t\t\t\t\t\t\t\t\t<li>\n",
      "\t\t\t\t\t<a href=\"http://www.jmjamison.com/june-july-weld-plants/\">June-July Weld Plants</a>\n",
      "\t\t\t\t\t\t\t\t\t</li>\n",
      "\t\t\t\t\t\t\t\t\t\t\t<li>\n",
      "\t\t\t\t\t<a href=\"http://www.jmjamison.com/why-i-dont-like-the-word-natural/\">Why I Don&#8217;t Like the Word &#8220;Natural&#8221;</a>\n",
      "\t\t\t\t\t\t\t\t\t</li>\n",
      "\t\t\t\t\t\t\t\t\t\t\t<li>\n",
      "\t\t\t\t\t<a href=\"http://www.jmjamison.com/another-generation-of-fiber-artists/\">Another generation of fiber artists</a>\n",
      "\t\t\t\t\t\t\t\t\t</li>\n",
      "\t\t\t\t\t\t\t\t\t\t\t<li>\n",
      "\t\t\t\t\t<a href=\"http://www.jmjamison.com/back-on-the-woad-track/\">Back on the Woad Track</a>\n",
      "\t\t\t\t\t\t\t\t\t</li>\n",
      "\t\t\t\t\t</ul>\n",
      "\t\t</section><section id=\"archives-2\" class=\"widget-odd widget-last widget-3 widget widget_archive\"><h3 class=\"widget-title\">Archives</h3>\t\t<ul>\n",
      "\t\t\t<li><a href='http://www.jmjamison.com/2018/04/'>April 2018</a></li>\n",
      "\t<li><a href='http://www.jmjamison.com/2017/02/'>February 2017</a></li>\n",
      "\t<li><a href='http://www.jmjamison.com/2016/07/'>July 2016</a></li>\n",
      "\t<li><a href='http://www.jmjamison.com/2016/05/'>May 2016</a></li>\n",
      "\t<li><a href='http://www.jmjamison.com/2016/03/'>March 2016</a></li>\n",
      "\t<li><a href='http://www.jmjamison.com/2015/11/'>November 2015</a></li>\n",
      "\t<li><a href='http://www.jmjamison.com/2015/07/'>July 2015</a></li>\n",
      "\t<li><a href='http://www.jmjamison.com/2015/04/'>April 2015</a></li>\n",
      "\t<li><a href='http://www.jmjamison.com/2014/09/'>September 2014</a></li>\n",
      "\t<li><a href='http://www.jmjamison.com/2014/06/'>June 2014</a></li>\n",
      "\t<li><a href='http://www.jmjamison.com/2014/05/'>May 2014</a></li>\n",
      "\t<li><a href='http://www.jmjamison.com/2013/12/'>December 2013</a></li>\n",
      "\t<li><a href='http://www.jmjamison.com/2013/06/'>June 2013</a></li>\n",
      "\t<li><a href='http://www.jmjamison.com/2013/05/'>May 2013</a></li>\n",
      "\t<li><a href='http://www.jmjamison.com/2013/01/'>January 2013</a></li>\n",
      "\t<li><a href='http://www.jmjamison.com/2012/11/'>November 2012</a></li>\n",
      "\t<li><a href='http://www.jmjamison.com/2012/07/'>July 2012</a></li>\n",
      "\t<li><a href='http://www.jmjamison.com/2012/03/'>March 2012</a></li>\n",
      "\t<li><a href='http://www.jmjamison.com/2011/10/'>October 2011</a></li>\n",
      "\t<li><a href='http://www.jmjamison.com/2011/08/'>August 2011</a></li>\n",
      "\t<li><a href='http://www.jmjamison.com/2011/07/'>July 2011</a></li>\n",
      "\t<li><a href='http://www.jmjamison.com/2011/06/'>June 2011</a></li>\n",
      "\t<li><a href='http://www.jmjamison.com/2011/05/'>May 2011</a></li>\n",
      "\t<li><a href='http://www.jmjamison.com/2011/02/'>February 2011</a></li>\n",
      "\t<li><a href='http://www.jmjamison.com/2011/01/'>January 2011</a></li>\n",
      "\t<li><a href='http://www.jmjamison.com/2010/08/'>August 2010</a></li>\n",
      "\t<li><a href='http://www.jmjamison.com/2010/07/'>July 2010</a></li>\n",
      "\t<li><a href='http://www.jmjamison.com/2010/06/'>June 2010</a></li>\n",
      "\t<li><a href='http://www.jmjamison.com/2010/04/'>April 2010</a></li>\n",
      "\t<li><a href='http://www.jmjamison.com/2010/03/'>March 2010</a></li>\n",
      "\t<li><a href='http://www.jmjamison.com/2010/02/'>February 2010</a></li>\n",
      "\t<li><a href='http://www.jmjamison.com/2010/01/'>January 2010</a></li>\n",
      "\t<li><a href='http://www.jmjamison.com/2009/12/'>December 2009</a></li>\n",
      "\t<li><a href='http://www.jmjamison.com/2009/11/'>November 2009</a></li>\n",
      "\t<li><a href='http://www.jmjamison.com/2009/09/'>September 2009</a></li>\n",
      "\t<li><a href='http://www.jmjamison.com/2009/08/'>August 2009</a></li>\n",
      "\t<li><a href='http://www.jmjamison.com/2009/07/'>July 2009</a></li>\n",
      "\t<li><a href='http://www.jmjamison.com/2009/06/'>June 2009</a></li>\n",
      "\t<li><a href='http://www.jmjamison.com/2009/05/'>May 2009</a></li>\n",
      "\t<li><a href='http://www.jmjamison.com/2009/03/'>March 2009</a></li>\n",
      "\t<li><a href='http://www.jmjamison.com/2009/02/'>February 2009</a></li>\n",
      "\t<li><a href='http://www.jmjamison.com/2008/12/'>December 2008</a></li>\n",
      "\t<li><a href='http://www.jmjamison.com/2008/11/'>November 2008</a></li>\n",
      "\t<li><a href='http://www.jmjamison.com/2008/10/'>October 2008</a></li>\n",
      "\t<li><a href='http://www.jmjamison.com/2008/09/'>September 2008</a></li>\n",
      "\t<li><a href='http://www.jmjamison.com/2008/07/'>July 2008</a></li>\n",
      "\t<li><a href='http://www.jmjamison.com/2008/03/'>March 2008</a></li>\n",
      "\t<li><a href='http://www.jmjamison.com/2008/01/'>January 2008</a></li>\n",
      "\t<li><a href='http://www.jmjamison.com/2007/12/'>December 2007</a></li>\n",
      "\t<li><a href='http://www.jmjamison.com/2007/05/'>May 2007</a></li>\n",
      "\t<li><a href='http://www.jmjamison.com/2006/11/'>November 2006</a></li>\n",
      "\t\t</ul>\n",
      "\t\t</section></aside><!-- #secondary -->\n",
      "\t\t\t</div><!-- .row -->\n",
      "\t\t</div><!-- .container -->\n",
      "\t</div><!-- #content -->\n",
      "    \t<footer id=\"colophon\" class=\"site-footer navbar-light\" role=\"contentinfo\">\n",
      "\t\t<div class=\"container pt-3 pb-3\">\n",
      "            <div class=\"site-info\">\n",
      "                &copy; 2018 <a href=\"http://www.jmjamison.com\">j.m.jamison&#039;s site of perpetual reconstruction &amp; backyard dyer blog</a>                <span class=\"sep\"> | </span>\n",
      "                <a class=\"credits\" href=\"https://afterimagedesigns.com/wp-bootstrap-starter/\" target=\"_blank\" title=\"Wordpress Technical Support\" alt=\"Bootstrap Wordpress Theme\">Bootstrap Wordpress Theme</a>\n",
      "\n",
      "            </div><!-- close .site-info -->\n",
      "\t\t</div>\n",
      "\t</footer><!-- #colophon -->\n",
      "</div><!-- #page -->\n",
      "\n",
      "<!-- ngg_resource_manager_marker --><script type='text/javascript' src='http://www.jmjamison.com/wp-content/plugins/photo-gallery/js/jquery.sumoselect.min.js?ver=3.0.3'></script>\n",
      "<script type='text/javascript' src='http://www.jmjamison.com/wp-content/plugins/photo-gallery/js/jquery.mobile.min.js?ver=1.5.8'></script>\n",
      "<script type='text/javascript' src='http://www.jmjamison.com/wp-content/plugins/photo-gallery/js/jquery.mCustomScrollbar.concat.min.js?ver=1.5.8'></script>\n",
      "<script type='text/javascript' src='http://www.jmjamison.com/wp-content/plugins/photo-gallery/js/jquery.fullscreen-0.4.1.min.js?ver=0.4.1'></script>\n",
      "<script type='text/javascript'>\n",
      "/* <![CDATA[ */\n",
      "var bwg_objectL10n = {\"bwg_field_required\":\"field is required.\",\"bwg_mail_validation\":\"This is not a valid email address.\",\"bwg_search_result\":\"There are no images matching your search.\",\"is_pro\":\"\"};\n",
      "/* ]]> */\n",
      "</script>\n",
      "<script type='text/javascript' src='http://www.jmjamison.com/wp-content/plugins/photo-gallery/js/bwg_gallery_box.js?ver=1.5.8'></script>\n",
      "<script type='text/javascript' src='http://www.jmjamison.com/wp-content/plugins/photo-gallery/js/bwg_embed.js?ver=1.5.8'></script>\n",
      "<script type='text/javascript'>\n",
      "/* <![CDATA[ */\n",
      "var bwg_objectsL10n = {\"bwg_select_tag\":\"Select Tag\",\"bwg_order_by\":\"Order By\",\"bwg_search\":\"Search\",\"bwg_show_ecommerce\":\"Show Ecommerce\",\"bwg_hide_ecommerce\":\"Hide Ecommerce\",\"bwg_show_comments\":\"Show Comments\",\"bwg_hide_comments\":\"Hide Comments\",\"bwg_how_comments\":\"how Comments\",\"bwg_restore\":\"Restore\",\"bwg_maximize\":\"Maximize\",\"bwg_fullscreen\":\"Fullscreen\",\"bwg_search_tag\":\"SEARCH...\",\"bwg_tag_no_match\":\"No tags found\",\"bwg_all_tags_selected\":\"All tags selected\",\"bwg_tags_selected\":\"tags selected\",\"play\":\"Play\",\"pause\":\"Pause\",\"is_pro\":\"\"};\n",
      "/* ]]> */\n",
      "</script>\n",
      "<script type='text/javascript' src='http://www.jmjamison.com/wp-content/plugins/photo-gallery/js/bwg_frontend.js?ver=1.5.8'></script>\n",
      "<script type='text/javascript' src='http://www.jmjamison.com/wp-content/plugins/tabs-recent-posts-vs-recent-comments/inc/script.js?ver=1.0'></script>\n",
      "<script type='text/javascript' src='http://www.jmjamison.com/wp-content/themes/wp-bootstrap-starter/inc/assets/js/popper.min.js?ver=4.9.8'></script>\n",
      "<script type='text/javascript' src='http://www.jmjamison.com/wp-content/themes/wp-bootstrap-starter/inc/assets/js/bootstrap.min.js?ver=4.9.8'></script>\n",
      "<script type='text/javascript' src='http://www.jmjamison.com/wp-content/themes/wp-bootstrap-starter/inc/assets/js/theme-script.min.js?ver=4.9.8'></script>\n",
      "<script type='text/javascript' src='http://www.jmjamison.com/wp-content/themes/wp-bootstrap-starter/inc/assets/js/skip-link-focus-fix.min.js?ver=20151215'></script>\n",
      "<script type='text/javascript' src='http://www.jmjamison.com/wp-includes/js/wp-embed.min.js?ver=4.9.8'></script>\n",
      "<script type=\"text/javascript\" id=\"slb_context\">/* <![CDATA[ */if ( !!window.jQuery ) {(function($){$(document).ready(function(){if ( !!window.SLB ) { {$.extend(SLB, {\"context\":[\"public\",\"user_guest\"]});} }})})(jQuery);}/* ]]> */</script>\n",
      "<script type=\"text/foobox\">/* Run FooBox FREE (v2.6.0) */\r\n",
      "(function( FOOBOX, $, undefined ) {\r\n",
      "  FOOBOX.o = {wordpress: { enabled: true }, countMessage:'image %index of %total', excludes:'.fbx-link,.nofoobox,.nolightbox,a[href*=\"pinterest.com/pin/create/button/\"]', affiliate : { enabled: false }};\r\n",
      "  FOOBOX.init = function() {\r\n",
      "    $(\".fbx-link\").removeClass(\"fbx-link\");\r\n",
      "    $(\".gallery, .wp-block-gallery, .wp-caption, .wp-block-image, a:has(img[class*=wp-image-]), .post a:has(img[class*=wp-image-]), .foobox\").foobox(FOOBOX.o);\r\n",
      "  };\r\n",
      "})( window.FOOBOX = window.FOOBOX || {}, FooBox.$ );\r\n",
      "\r\n",
      "FooBox.ready(function() {\r\n",
      "\r\n",
      "  jQuery(\"body\").append(\"<span aria-hidden=\\\"true\\\" class=\\\"foobox_font_preload\\\" style=\\\"font-family:'foobox'; color:transparent; position:absolute; top:-9999px; left: -9999px;\\\">f</span>\");\r\n",
      "  FOOBOX.init();\r\n",
      "  jQuery('body').on('post-load', function(){ FOOBOX.init(); });\r\n",
      "\r\n",
      "});\r\n",
      "</script>\t\t\t\t<script type=\"text/javascript\">\r\n",
      "\t\t\t\t\tif (window.addEventListener){\r\n",
      "\t\t\t\t\t\twindow.addEventListener(\"DOMContentLoaded\", function() {\r\n",
      "\t\t\t\t\t\t\tvar arr = document.querySelectorAll(\"script[type='text/foobox']\");\r\n",
      "\t\t\t\t\t\t\tfor (var x = 0; x < arr.length; x++) {\r\n",
      "\t\t\t\t\t\t\t\tvar script = document.createElement(\"script\");\r\n",
      "\t\t\t\t\t\t\t\tscript.type = \"text/javascript\";\r\n",
      "\t\t\t\t\t\t\t\tscript.innerHTML = arr[x].innerHTML;\r\n",
      "\t\t\t\t\t\t\t\tarr[x].parentNode.replaceChild(script, arr[x]);\r\n",
      "\t\t\t\t\t\t\t}\r\n",
      "\t\t\t\t\t\t});\r\n",
      "\t\t\t\t\t} else {\r\n",
      "\t\t\t\t\t\tconsole.log(\"FooBox does not support the current browser.\");\r\n",
      "\t\t\t\t\t}\r\n",
      "\t\t\t\t</script>\r\n",
      "\t\t\t\t</body>\n",
      "</html>\n"
     ]
    }
   ],
   "source": [
    "# passing list of items as value\n",
    "something2={'key1':'value1', 'key2':'value2'}\n",
    "#\n",
    "r=requests.post('http://www.jmjamison.com/post', data=something2)\n",
    "#\n",
    "print(r.text)"
   ]
  },
  {
   "cell_type": "code",
   "execution_count": 89,
   "metadata": {},
   "outputs": [
    {
     "data": {
      "text/plain": [
       "404"
      ]
     },
     "execution_count": 89,
     "metadata": {},
     "output_type": "execute_result"
    }
   ],
   "source": [
    "r=requests.get('http://www.jmjamison.com/get')\n",
    "r.status_code"
   ]
  },
  {
   "cell_type": "code",
   "execution_count": 90,
   "metadata": {},
   "outputs": [
    {
     "data": {
      "text/plain": [
       "False"
      ]
     },
     "execution_count": 90,
     "metadata": {},
     "output_type": "execute_result"
    }
   ],
   "source": [
    "r.status_code==requests.codes.ok"
   ]
  },
  {
   "cell_type": "code",
   "execution_count": 91,
   "metadata": {},
   "outputs": [
    {
     "data": {
      "text/plain": [
       "{'Date': 'Thu, 06 Dec 2018 01:50:24 GMT', 'Server': 'Apache/2.4.35', 'Expires': 'Wed, 11 Jan 1984 05:00:00 GMT', 'Cache-Control': 'no-cache, must-revalidate, max-age=0', 'Link': '<http://www.jmjamison.com/wp-json/>; rel=\"https://api.w.org/\"', 'Set-Cookie': 'apbct_timestamp=1544061024; path=/, apbct_site_landing_ts=1544061024; path=/, apbct_page_hits=1; path=/, apbct_cookies_test=%7B%22cookies_names%22%3A%5B%22apbct_timestamp%22%2C%22apbct_site_landing_ts%22%2C%22apbct_page_hits%22%5D%2C%22check_value%22%3A%22cafd6fb26abe06cdc4244a00bc9cffa3%22%7D; path=/, ct_sfw_pass_key=283b45d356b5620d7c46ac3cc3d82b5c; path=/', 'Keep-Alive': 'timeout=5, max=100', 'Connection': 'Keep-Alive', 'Transfer-Encoding': 'chunked', 'Content-Type': 'text/html; charset=UTF-8'}"
      ]
     },
     "execution_count": 91,
     "metadata": {},
     "output_type": "execute_result"
    }
   ],
   "source": [
    "r.headers"
   ]
  },
  {
   "cell_type": "code",
   "execution_count": 92,
   "metadata": {},
   "outputs": [
    {
     "data": {
      "text/plain": [
       "'text/html; charset=UTF-8'"
      ]
     },
     "execution_count": 92,
     "metadata": {},
     "output_type": "execute_result"
    }
   ],
   "source": [
    "r.headers['Content-Type']"
   ]
  },
  {
   "cell_type": "code",
   "execution_count": 93,
   "metadata": {},
   "outputs": [
    {
     "data": {
      "text/plain": [
       "'text/html; charset=UTF-8'"
      ]
     },
     "execution_count": 93,
     "metadata": {},
     "output_type": "execute_result"
    }
   ],
   "source": [
    "r.headers.get('content-type')"
   ]
  },
  {
   "cell_type": "code",
   "execution_count": 94,
   "metadata": {},
   "outputs": [],
   "source": [
    "url='http://www.jmjamison.com/cookies'\n",
    "cookies=dict(cookies_are='working')"
   ]
  },
  {
   "cell_type": "code",
   "execution_count": 95,
   "metadata": {},
   "outputs": [
    {
     "data": {
      "text/plain": [
       "'<!DOCTYPE html>\\n<html lang=\"en-US\">\\n<head>\\n    <meta charset=\"UTF-8\">\\n    <meta name=\"viewport\" content=\"width=device-width, initial-scale=1\">\\n    <meta http-equiv=\"X-UA-Compatible\" content=\"IE=edge\">\\n    <link rel=\"profile\" href=\"http://gmpg.org/xfn/11\">\\n    <link rel=\"pingback\" href=\"http://www.jmjamison.com/xmlrpc.php\">\\n<title>Page not found &#8211; j.m.jamison&#039;s site of perpetual reconstruction &amp; backyard dyer blog</title>\\n<script type=\\'text/javascript\\'>function ctSetCookie(c_name, value, def_value){document.cookie = c_name + \\'=\\' + escape(value) + \\'; path=/\\';}ctSetCookie(\\'ct_checkjs\\', \\'433613939\\', \\'0\\');</script><link rel=\\'dns-prefetch\\' href=\\'//use.fontawesome.com\\' />\\n<link rel=\\'dns-prefetch\\' href=\\'//s.w.org\\' />\\n<link rel=\"alternate\" type=\"application/rss+xml\" title=\"j.m.jamison&#039;s site of perpetual reconstruction &amp; backyard dyer blog &raquo; Feed\" href=\"http://www.jmjamison.com/feed/\" />\\n<link rel=\"alternate\" type=\"application/rss+xml\" title=\"j.m.jamison&#039;s site of perpetual reconstruction &amp; backyard dyer blog &raquo; Comments Feed\" href=\"http://www.jmjamison.com/comments/feed/\" />\\n\\t\\t<script type=\"text/javascript\">\\n\\t\\t\\twindow._wpemojiSettings = {\"baseUrl\":\"https:\\\\/\\\\/s.w.org\\\\/images\\\\/core\\\\/emoji\\\\/11\\\\/72x72\\\\/\",\"ext\":\".png\",\"svgUrl\":\"https:\\\\/\\\\/s.w.org\\\\/images\\\\/core\\\\/emoji\\\\/11\\\\/svg\\\\/\",\"svgExt\":\".svg\",\"source\":{\"concatemoji\":\"http:\\\\/\\\\/www.jmjamison.com\\\\/wp-includes\\\\/js\\\\/wp-emoji-release.min.js?ver=4.9.8\"}};\\n\\t\\t\\t!function(a,b,c){function d(a,b){var c=String.fromCharCode;l.clearRect(0,0,k.width,k.height),l.fillText(c.apply(this,a),0,0);var d=k.toDataURL();l.clearRect(0,0,k.width,k.height),l.fillText(c.apply(this,b),0,0);var e=k.toDataURL();return d===e}function e(a){var b;if(!l||!l.fillText)return!1;switch(l.textBaseline=\"top\",l.font=\"600 32px Arial\",a){case\"flag\":return!(b=d([55356,56826,55356,56819],[55356,56826,8203,55356,56819]))&&(b=d([55356,57332,56128,56423,56128,56418,56128,56421,56128,56430,56128,56423,56128,56447],[55356,57332,8203,56128,56423,8203,56128,56418,8203,56128,56421,8203,56128,56430,8203,56128,56423,8203,56128,56447]),!b);case\"emoji\":return b=d([55358,56760,9792,65039],[55358,56760,8203,9792,65039]),!b}return!1}function f(a){var c=b.createElement(\"script\");c.src=a,c.defer=c.type=\"text/javascript\",b.getElementsByTagName(\"head\")[0].appendChild(c)}var g,h,i,j,k=b.createElement(\"canvas\"),l=k.getContext&&k.getContext(\"2d\");for(j=Array(\"flag\",\"emoji\"),c.supports={everything:!0,everythingExceptFlag:!0},i=0;i<j.length;i++)c.supports[j[i]]=e(j[i]),c.supports.everything=c.supports.everything&&c.supports[j[i]],\"flag\"!==j[i]&&(c.supports.everythingExceptFlag=c.supports.everythingExceptFlag&&c.supports[j[i]]);c.supports.everythingExceptFlag=c.supports.everythingExceptFlag&&!c.supports.flag,c.DOMReady=!1,c.readyCallback=function(){c.DOMReady=!0},c.supports.everything||(h=function(){c.readyCallback()},b.addEventListener?(b.addEventListener(\"DOMContentLoaded\",h,!1),a.addEventListener(\"load\",h,!1)):(a.attachEvent(\"onload\",h),b.attachEvent(\"onreadystatechange\",function(){\"complete\"===b.readyState&&c.readyCallback()})),g=c.source||{},g.concatemoji?f(g.concatemoji):g.wpemoji&&g.twemoji&&(f(g.twemoji),f(g.wpemoji)))}(window,document,window._wpemojiSettings);\\n\\t\\t</script>\\n\\t\\t<style type=\"text/css\">\\nimg.wp-smiley,\\nimg.emoji {\\n\\tdisplay: inline !important;\\n\\tborder: none !important;\\n\\tbox-shadow: none !important;\\n\\theight: 1em !important;\\n\\twidth: 1em !important;\\n\\tmargin: 0 .07em !important;\\n\\tvertical-align: -0.1em !important;\\n\\tbackground: none !important;\\n\\tpadding: 0 !important;\\n}\\n</style>\\n<link rel=\\'stylesheet\\' id=\\'foobox-free-min-css\\'  href=\\'http://www.jmjamison.com/wp-content/plugins/foobox-image-lightbox/free/css/foobox.free.min.css?ver=2.6.0\\' type=\\'text/css\\' media=\\'all\\' />\\n<link rel=\\'stylesheet\\' id=\\'Total_Soft_Portfolio-css\\'  href=\\'http://www.jmjamison.com/wp-content/plugins/gallery-portfolio/CSS/Total-Soft-Portfolio-Widget.css?ver=4.9.8\\' type=\\'text/css\\' media=\\'all\\' />\\n<link rel=\\'stylesheet\\' id=\\'Total_Soft_Portfolio2-css\\'  href=\\'http://www.jmjamison.com/wp-content/plugins/gallery-portfolio/CSS/Filt_popup.min.css?ver=4.9.8\\' type=\\'text/css\\' media=\\'all\\' />\\n<link rel=\\'stylesheet\\' id=\\'fontawesome-css-css\\'  href=\\'http://www.jmjamison.com/wp-content/plugins/gallery-portfolio/CSS/totalsoft.css?ver=4.9.8\\' type=\\'text/css\\' media=\\'all\\' />\\n<link rel=\\'stylesheet\\' id=\\'bwg_sumoselect-css\\'  href=\\'http://www.jmjamison.com/wp-content/plugins/photo-gallery/css/sumoselect.min.css?ver=3.0.3\\' type=\\'text/css\\' media=\\'all\\' />\\n<link rel=\\'stylesheet\\' id=\\'bwg_font-awesome-css\\'  href=\\'http://www.jmjamison.com/wp-content/plugins/photo-gallery/css/font-awesome/font-awesome.min.css?ver=4.6.3\\' type=\\'text/css\\' media=\\'all\\' />\\n<link rel=\\'stylesheet\\' id=\\'bwg_mCustomScrollbar-css\\'  href=\\'http://www.jmjamison.com/wp-content/plugins/photo-gallery/css/jquery.mCustomScrollbar.min.css?ver=1.5.8\\' type=\\'text/css\\' media=\\'all\\' />\\n<link rel=\\'stylesheet\\' id=\\'bwg_frontend-css\\'  href=\\'http://www.jmjamison.com/wp-content/plugins/photo-gallery/css/bwg_frontend.css?ver=1.5.8\\' type=\\'text/css\\' media=\\'all\\' />\\n<link rel=\\'stylesheet\\' id=\\'tabs_rpvsrc_style-css\\'  href=\\'http://www.jmjamison.com/wp-content/plugins/tabs-recent-posts-vs-recent-comments/inc/style.css?ver=4.9.8\\' type=\\'text/css\\' media=\\'all\\' />\\n<link rel=\\'stylesheet\\' id=\\'wp-bootstrap-starter-bootstrap-css-css\\'  href=\\'http://www.jmjamison.com/wp-content/themes/wp-bootstrap-starter/inc/assets/css/bootstrap.min.css?ver=4.9.8\\' type=\\'text/css\\' media=\\'all\\' />\\n<link rel=\\'stylesheet\\' id=\\'wp-bootstrap-pro-fontawesome-cdn-css\\'  href=\\'https://use.fontawesome.com/releases/v5.1.0/css/all.css?ver=4.9.8\\' type=\\'text/css\\' media=\\'all\\' />\\n<link rel=\\'stylesheet\\' id=\\'wp-bootstrap-starter-style-css\\'  href=\\'http://www.jmjamison.com/wp-content/themes/wp-bootstrap-starter/style.css?ver=4.9.8\\' type=\\'text/css\\' media=\\'all\\' />\\n<link rel=\\'stylesheet\\' id=\\'slb_core-css\\'  href=\\'http://www.jmjamison.com/wp-content/plugins/simple-lightbox/client/css/app.css?ver=2.7.0\\' type=\\'text/css\\' media=\\'all\\' />\\n<script type=\\'text/javascript\\' src=\\'http://www.jmjamison.com/wp-includes/js/jquery/jquery.js?ver=1.12.4\\'></script>\\n<script type=\\'text/javascript\\' src=\\'http://www.jmjamison.com/wp-includes/js/jquery/jquery-migrate.min.js?ver=1.4.1\\'></script>\\n<script type=\\'text/javascript\\' src=\\'http://www.jmjamison.com/wp-content/plugins/cleantalk-spam-protect/js/apbct-public.js?ver=5.108.1\\'></script>\\n<script type=\\'text/javascript\\'>\\n/* <![CDATA[ */\\nvar ctPublic = {\"gdpr_forms\":[],\"gdpr_text\":\"By using this form you agree with the storage and processing of your data by using the Privacy Policy on this website.\"};\\n/* ]]> */\\n</script>\\n<script type=\\'text/javascript\\' src=\\'http://www.jmjamison.com/wp-content/plugins/cleantalk-spam-protect/js/apbct-public--gdpr.js?ver=5.108.1\\'></script>\\n<script type=\\'text/javascript\\'>\\n/* <![CDATA[ */\\nvar ctNocache = {\"ajaxurl\":\"http:\\\\/\\\\/www.jmjamison.com\\\\/wp-admin\\\\/admin-ajax.php\",\"info_flag\":\"\",\"set_cookies_flag\":\"\",\"blog_home\":\"http:\\\\/\\\\/www.jmjamison.com\\\\/\"};\\n/* ]]> */\\n</script>\\n<script type=\\'text/javascript\\' src=\\'http://www.jmjamison.com/wp-content/plugins/cleantalk-spam-protect/inc/cleantalk_nocache.js?ver=5.108.1\\'></script>\\n<script type=\\'text/javascript\\' src=\\'http://www.jmjamison.com/wp-includes/js/jquery/ui/core.min.js?ver=1.11.4\\'></script>\\n<script type=\\'text/javascript\\'>\\n/* <![CDATA[ */\\nvar object = {\"ajaxurl\":\"http:\\\\/\\\\/www.jmjamison.com\\\\/wp-admin\\\\/admin-ajax.php\"};\\n/* ]]> */\\n</script>\\n<script type=\\'text/javascript\\' src=\\'http://www.jmjamison.com/wp-content/plugins/gallery-portfolio/JS/Total-Soft-Portfolio-Widget.js?ver=4.9.8\\'></script>\\n<!--[if lt IE 9]>\\n<script type=\\'text/javascript\\' src=\\'http://www.jmjamison.com/wp-content/themes/wp-bootstrap-starter/inc/assets/js/html5.js?ver=3.7.0\\'></script>\\n<![endif]-->\\n<script type=\\'text/javascript\\' src=\\'http://www.jmjamison.com/wp-content/plugins/foobox-image-lightbox/free/js/foobox.free.min.js?ver=2.6.0\\'></script>\\n<link rel=\\'https://api.w.org/\\' href=\\'http://www.jmjamison.com/wp-json/\\' />\\n<link rel=\"EditURI\" type=\"application/rsd+xml\" title=\"RSD\" href=\"http://www.jmjamison.com/xmlrpc.php?rsd\" />\\n<link rel=\"wlwmanifest\" type=\"application/wlwmanifest+xml\" href=\"http://www.jmjamison.com/wp-includes/wlwmanifest.xml\" /> \\n<meta name=\"generator\" content=\"WordPress 4.9.8\" />\\n<!-- <meta name=\"NextGEN\" version=\"3.0.16\" /> -->\\n    <style type=\"text/css\">\\n        #page-sub-header { background: #fff; }\\n    </style>\\n    \\t<style type=\"text/css\">\\n\\t        a.site-title,\\n\\t\\t.site-description {\\n\\t\\t\\tcolor: #000000;\\n\\t\\t}\\n\\t\\t</style>\\n\\t\\t\\t<style type=\"text/css\" id=\"wp-custom-css\">\\n\\t\\t\\theader#masthead {\\n    margin-bottom: 0;\\n    background-color: #a29c9c;\\n    box-shadow: 0 0.5rem 1rem rgba(0,0,0,.05), inset 0 -1px 0 rgba(0,0,0,.1);\\n    padding: .74rem 1rem;\\n}\\n\\n.navbar-brand > a {\\n    color: rgba(0, 0, 0, 0.9);\\n    font-size: 1.1rem;\\n    outline: medium none;\\n    text-decoration: none;\\n    font-weight: 100;\\n}\\nbody:not(.theme-preset-active) footer#colophon {\\n  color: #fff;\\n  background-color: #a29c9c;\\n}\\t\\t</style>\\n\\t</head>\\n\\n<body class=\"error404 hfeed\">\\n<div id=\"page\" class=\"site\">\\n\\t<a class=\"skip-link screen-reader-text\" href=\"#content\">Skip to content</a>\\n    \\t<header id=\"masthead\" class=\"site-header navbar-static-top navbar-light\" role=\"banner\">\\n        <div class=\"container\">\\n            <nav class=\"navbar navbar-expand-xl p-0\">\\n                <div class=\"navbar-brand\">\\n                                            <a class=\"site-title\" href=\"http://www.jmjamison.com/\">j.m.jamison&#039;s site of perpetual reconstruction &amp; backyard dyer blog</a>\\n                    \\n                </div>\\n                <button class=\"navbar-toggler\" type=\"button\" data-toggle=\"collapse\" data-target=\"#main-nav\" aria-controls=\"\" aria-expanded=\"false\" aria-label=\"Toggle navigation\">\\n                    <span class=\"navbar-toggler-icon\"></span>\\n                </button>\\n\\n                <div id=\"main-nav\" class=\"collapse navbar-collapse justify-content-end\"><ul id=\"menu-main_menu\" class=\"navbar-nav\"><li id=\"menu-item-1468\" class=\"nav-item menu-item menu-item-type-post_type menu-item-object-page current_page_parent menu-item-1468\"><a title=\"backyard dyer\" href=\"http://www.jmjamison.com/posts/\" class=\"nav-link\">backyard dyer</a></li>\\n<li id=\"menu-item-36\" class=\"nav-item menu-item menu-item-type-custom menu-item-object-custom menu-item-home menu-item-36\"><a title=\"home\" href=\"http://www.jmjamison.com/\" class=\"nav-link\">home</a></li>\\n<li id=\"menu-item-45\" class=\"nav-item menu-item menu-item-type-post_type menu-item-object-page menu-item-45\"><a title=\"Paintings\" href=\"http://www.jmjamison.com/paintings/\" class=\"nav-link\">Paintings</a></li>\\n<li id=\"menu-item-1543\" class=\"nav-item menu-item menu-item-type-post_type menu-item-object-page menu-item-1543\"><a title=\"Weaving\" href=\"http://www.jmjamison.com/weaving-textile/\" class=\"nav-link\">Weaving</a></li>\\n<li id=\"menu-item-44\" class=\"nav-item menu-item menu-item-type-post_type menu-item-object-page menu-item-44\"><a title=\"Prints\" href=\"http://www.jmjamison.com/prints/\" class=\"nav-link\">Prints</a></li>\\n<li id=\"menu-item-1508\" class=\"nav-item menu-item menu-item-type-post_type menu-item-object-page menu-item-1508\"><a title=\"About (backyard dyer)\" href=\"http://www.jmjamison.com/about/\" class=\"nav-link\">About (backyard dyer)</a></li>\\n</ul></div>\\n            </nav>\\n        </div>\\n\\t</header><!-- #masthead -->\\n    \\t<div id=\"content\" class=\"site-content\">\\n\\t\\t<div class=\"container\">\\n\\t\\t\\t<div class=\"row\">\\n                \\n\\t<section id=\"primary\" class=\"content-area col-sm-12 col-lg-8\">\\n\\t\\t<main id=\"main\" class=\"site-main\" role=\"main\">\\n\\n\\t\\t\\t<section class=\"error-404 not-found\">\\n\\t\\t\\t\\t<header class=\"page-header\">\\n\\t\\t\\t\\t\\t<h1 class=\"page-title\">Oops! That page can&rsquo;t be found.</h1>\\n\\t\\t\\t\\t</header><!-- .page-header -->\\n\\n\\t\\t\\t\\t<div class=\"page-content\">\\n\\t\\t\\t\\t\\t<p>It looks like nothing was found at this location. Maybe try one of the links below or a search?</p>\\n\\n\\t\\t\\t\\t\\t<form role=\"search\" method=\"get\" class=\"search-form\" action=\"http://www.jmjamison.com/\">\\r\\n    <label>\\r\\n        <input type=\"search\" class=\"search-field form-control\" placeholder=\"Search &hellip;\" value=\"\" name=\"s\" title=\"Search for:\">\\r\\n    </label>\\r\\n    <input type=\"submit\" class=\"search-submit btn btn-default\" value=\"Search\">\\r\\n</form>\\r\\n\\r\\n\\r\\n\\r\\n\\n\\t\\t\\t\\t</div><!-- .page-content -->\\n\\t\\t\\t</section><!-- .error-404 -->\\n\\n\\t\\t</main><!-- #main -->\\n\\t</section><!-- #primary -->\\n\\n\\n<aside id=\"secondary\" class=\"widget-area col-sm-12 col-lg-4\" role=\"complementary\">\\n\\t<section id=\"search-2\" class=\"widget-odd widget-first widget-1 widget widget_search\"><form role=\"search\" method=\"get\" class=\"search-form\" action=\"http://www.jmjamison.com/\">\\r\\n    <label>\\r\\n        <input type=\"search\" class=\"search-field form-control\" placeholder=\"Search &hellip;\" value=\"\" name=\"s\" title=\"Search for:\">\\r\\n    </label>\\r\\n    <input type=\"submit\" class=\"search-submit btn btn-default\" value=\"Search\">\\r\\n</form>\\r\\n\\r\\n\\r\\n\\r\\n</section>\\t\\t<section id=\"recent-posts-2\" class=\"widget-even widget-2 widget widget_recent_entries\">\\t\\t<h3 class=\"widget-title\">Recent Posts</h3>\\t\\t<ul>\\n\\t\\t\\t\\t\\t\\t\\t\\t\\t\\t\\t<li>\\n\\t\\t\\t\\t\\t<a href=\"http://www.jmjamison.com/blog-moving-day/\">Blog Moving Day</a>\\n\\t\\t\\t\\t\\t\\t\\t\\t\\t</li>\\n\\t\\t\\t\\t\\t\\t\\t\\t\\t\\t\\t<li>\\n\\t\\t\\t\\t\\t<a href=\"http://www.jmjamison.com/oxalis-wood-sorrel-season-again/\">Oxalis / Wood Sorrel Season (Again)</a>\\n\\t\\t\\t\\t\\t\\t\\t\\t\\t</li>\\n\\t\\t\\t\\t\\t\\t\\t\\t\\t\\t\\t<li>\\n\\t\\t\\t\\t\\t<a href=\"http://www.jmjamison.com/dyeing-with-rosemary-rosmarinus-officinalis/\">Dyeing with Rosemary (Rosmarinus officinalis)</a>\\n\\t\\t\\t\\t\\t\\t\\t\\t\\t</li>\\n\\t\\t\\t\\t\\t\\t\\t\\t\\t\\t\\t<li>\\n\\t\\t\\t\\t\\t<a href=\"http://www.jmjamison.com/more-weld/\">More Weld</a>\\n\\t\\t\\t\\t\\t\\t\\t\\t\\t</li>\\n\\t\\t\\t\\t\\t\\t\\t\\t\\t\\t\\t<li>\\n\\t\\t\\t\\t\\t<a href=\"http://www.jmjamison.com/march-2016-weld-and-woad/\">March 2016 Weld and Woad</a>\\n\\t\\t\\t\\t\\t\\t\\t\\t\\t</li>\\n\\t\\t\\t\\t\\t\\t\\t\\t\\t\\t\\t<li>\\n\\t\\t\\t\\t\\t<a href=\"http://www.jmjamison.com/bubblegum-pink/\">Bubblegum Pink</a>\\n\\t\\t\\t\\t\\t\\t\\t\\t\\t</li>\\n\\t\\t\\t\\t\\t\\t\\t\\t\\t\\t\\t<li>\\n\\t\\t\\t\\t\\t<a href=\"http://www.jmjamison.com/june-july-weld-plants/\">June-July Weld Plants</a>\\n\\t\\t\\t\\t\\t\\t\\t\\t\\t</li>\\n\\t\\t\\t\\t\\t\\t\\t\\t\\t\\t\\t<li>\\n\\t\\t\\t\\t\\t<a href=\"http://www.jmjamison.com/why-i-dont-like-the-word-natural/\">Why I Don&#8217;t Like the Word &#8220;Natural&#8221;</a>\\n\\t\\t\\t\\t\\t\\t\\t\\t\\t</li>\\n\\t\\t\\t\\t\\t\\t\\t\\t\\t\\t\\t<li>\\n\\t\\t\\t\\t\\t<a href=\"http://www.jmjamison.com/another-generation-of-fiber-artists/\">Another generation of fiber artists</a>\\n\\t\\t\\t\\t\\t\\t\\t\\t\\t</li>\\n\\t\\t\\t\\t\\t\\t\\t\\t\\t\\t\\t<li>\\n\\t\\t\\t\\t\\t<a href=\"http://www.jmjamison.com/back-on-the-woad-track/\">Back on the Woad Track</a>\\n\\t\\t\\t\\t\\t\\t\\t\\t\\t</li>\\n\\t\\t\\t\\t\\t</ul>\\n\\t\\t</section><section id=\"archives-2\" class=\"widget-odd widget-last widget-3 widget widget_archive\"><h3 class=\"widget-title\">Archives</h3>\\t\\t<ul>\\n\\t\\t\\t<li><a href=\\'http://www.jmjamison.com/2018/04/\\'>April 2018</a></li>\\n\\t<li><a href=\\'http://www.jmjamison.com/2017/02/\\'>February 2017</a></li>\\n\\t<li><a href=\\'http://www.jmjamison.com/2016/07/\\'>July 2016</a></li>\\n\\t<li><a href=\\'http://www.jmjamison.com/2016/05/\\'>May 2016</a></li>\\n\\t<li><a href=\\'http://www.jmjamison.com/2016/03/\\'>March 2016</a></li>\\n\\t<li><a href=\\'http://www.jmjamison.com/2015/11/\\'>November 2015</a></li>\\n\\t<li><a href=\\'http://www.jmjamison.com/2015/07/\\'>July 2015</a></li>\\n\\t<li><a href=\\'http://www.jmjamison.com/2015/04/\\'>April 2015</a></li>\\n\\t<li><a href=\\'http://www.jmjamison.com/2014/09/\\'>September 2014</a></li>\\n\\t<li><a href=\\'http://www.jmjamison.com/2014/06/\\'>June 2014</a></li>\\n\\t<li><a href=\\'http://www.jmjamison.com/2014/05/\\'>May 2014</a></li>\\n\\t<li><a href=\\'http://www.jmjamison.com/2013/12/\\'>December 2013</a></li>\\n\\t<li><a href=\\'http://www.jmjamison.com/2013/06/\\'>June 2013</a></li>\\n\\t<li><a href=\\'http://www.jmjamison.com/2013/05/\\'>May 2013</a></li>\\n\\t<li><a href=\\'http://www.jmjamison.com/2013/01/\\'>January 2013</a></li>\\n\\t<li><a href=\\'http://www.jmjamison.com/2012/11/\\'>November 2012</a></li>\\n\\t<li><a href=\\'http://www.jmjamison.com/2012/07/\\'>July 2012</a></li>\\n\\t<li><a href=\\'http://www.jmjamison.com/2012/03/\\'>March 2012</a></li>\\n\\t<li><a href=\\'http://www.jmjamison.com/2011/10/\\'>October 2011</a></li>\\n\\t<li><a href=\\'http://www.jmjamison.com/2011/08/\\'>August 2011</a></li>\\n\\t<li><a href=\\'http://www.jmjamison.com/2011/07/\\'>July 2011</a></li>\\n\\t<li><a href=\\'http://www.jmjamison.com/2011/06/\\'>June 2011</a></li>\\n\\t<li><a href=\\'http://www.jmjamison.com/2011/05/\\'>May 2011</a></li>\\n\\t<li><a href=\\'http://www.jmjamison.com/2011/02/\\'>February 2011</a></li>\\n\\t<li><a href=\\'http://www.jmjamison.com/2011/01/\\'>January 2011</a></li>\\n\\t<li><a href=\\'http://www.jmjamison.com/2010/08/\\'>August 2010</a></li>\\n\\t<li><a href=\\'http://www.jmjamison.com/2010/07/\\'>July 2010</a></li>\\n\\t<li><a href=\\'http://www.jmjamison.com/2010/06/\\'>June 2010</a></li>\\n\\t<li><a href=\\'http://www.jmjamison.com/2010/04/\\'>April 2010</a></li>\\n\\t<li><a href=\\'http://www.jmjamison.com/2010/03/\\'>March 2010</a></li>\\n\\t<li><a href=\\'http://www.jmjamison.com/2010/02/\\'>February 2010</a></li>\\n\\t<li><a href=\\'http://www.jmjamison.com/2010/01/\\'>January 2010</a></li>\\n\\t<li><a href=\\'http://www.jmjamison.com/2009/12/\\'>December 2009</a></li>\\n\\t<li><a href=\\'http://www.jmjamison.com/2009/11/\\'>November 2009</a></li>\\n\\t<li><a href=\\'http://www.jmjamison.com/2009/09/\\'>September 2009</a></li>\\n\\t<li><a href=\\'http://www.jmjamison.com/2009/08/\\'>August 2009</a></li>\\n\\t<li><a href=\\'http://www.jmjamison.com/2009/07/\\'>July 2009</a></li>\\n\\t<li><a href=\\'http://www.jmjamison.com/2009/06/\\'>June 2009</a></li>\\n\\t<li><a href=\\'http://www.jmjamison.com/2009/05/\\'>May 2009</a></li>\\n\\t<li><a href=\\'http://www.jmjamison.com/2009/03/\\'>March 2009</a></li>\\n\\t<li><a href=\\'http://www.jmjamison.com/2009/02/\\'>February 2009</a></li>\\n\\t<li><a href=\\'http://www.jmjamison.com/2008/12/\\'>December 2008</a></li>\\n\\t<li><a href=\\'http://www.jmjamison.com/2008/11/\\'>November 2008</a></li>\\n\\t<li><a href=\\'http://www.jmjamison.com/2008/10/\\'>October 2008</a></li>\\n\\t<li><a href=\\'http://www.jmjamison.com/2008/09/\\'>September 2008</a></li>\\n\\t<li><a href=\\'http://www.jmjamison.com/2008/07/\\'>July 2008</a></li>\\n\\t<li><a href=\\'http://www.jmjamison.com/2008/03/\\'>March 2008</a></li>\\n\\t<li><a href=\\'http://www.jmjamison.com/2008/01/\\'>January 2008</a></li>\\n\\t<li><a href=\\'http://www.jmjamison.com/2007/12/\\'>December 2007</a></li>\\n\\t<li><a href=\\'http://www.jmjamison.com/2007/05/\\'>May 2007</a></li>\\n\\t<li><a href=\\'http://www.jmjamison.com/2006/11/\\'>November 2006</a></li>\\n\\t\\t</ul>\\n\\t\\t</section></aside><!-- #secondary -->\\n\\t\\t\\t</div><!-- .row -->\\n\\t\\t</div><!-- .container -->\\n\\t</div><!-- #content -->\\n    \\t<footer id=\"colophon\" class=\"site-footer navbar-light\" role=\"contentinfo\">\\n\\t\\t<div class=\"container pt-3 pb-3\">\\n            <div class=\"site-info\">\\n                &copy; 2018 <a href=\"http://www.jmjamison.com\">j.m.jamison&#039;s site of perpetual reconstruction &amp; backyard dyer blog</a>                <span class=\"sep\"> | </span>\\n                <a class=\"credits\" href=\"https://afterimagedesigns.com/wp-bootstrap-starter/\" target=\"_blank\" title=\"Wordpress Technical Support\" alt=\"Bootstrap Wordpress Theme\">Bootstrap Wordpress Theme</a>\\n\\n            </div><!-- close .site-info -->\\n\\t\\t</div>\\n\\t</footer><!-- #colophon -->\\n</div><!-- #page -->\\n\\n<!-- ngg_resource_manager_marker --><script type=\\'text/javascript\\' src=\\'http://www.jmjamison.com/wp-content/plugins/photo-gallery/js/jquery.sumoselect.min.js?ver=3.0.3\\'></script>\\n<script type=\\'text/javascript\\' src=\\'http://www.jmjamison.com/wp-content/plugins/photo-gallery/js/jquery.mobile.min.js?ver=1.5.8\\'></script>\\n<script type=\\'text/javascript\\' src=\\'http://www.jmjamison.com/wp-content/plugins/photo-gallery/js/jquery.mCustomScrollbar.concat.min.js?ver=1.5.8\\'></script>\\n<script type=\\'text/javascript\\' src=\\'http://www.jmjamison.com/wp-content/plugins/photo-gallery/js/jquery.fullscreen-0.4.1.min.js?ver=0.4.1\\'></script>\\n<script type=\\'text/javascript\\'>\\n/* <![CDATA[ */\\nvar bwg_objectL10n = {\"bwg_field_required\":\"field is required.\",\"bwg_mail_validation\":\"This is not a valid email address.\",\"bwg_search_result\":\"There are no images matching your search.\",\"is_pro\":\"\"};\\n/* ]]> */\\n</script>\\n<script type=\\'text/javascript\\' src=\\'http://www.jmjamison.com/wp-content/plugins/photo-gallery/js/bwg_gallery_box.js?ver=1.5.8\\'></script>\\n<script type=\\'text/javascript\\' src=\\'http://www.jmjamison.com/wp-content/plugins/photo-gallery/js/bwg_embed.js?ver=1.5.8\\'></script>\\n<script type=\\'text/javascript\\'>\\n/* <![CDATA[ */\\nvar bwg_objectsL10n = {\"bwg_select_tag\":\"Select Tag\",\"bwg_order_by\":\"Order By\",\"bwg_search\":\"Search\",\"bwg_show_ecommerce\":\"Show Ecommerce\",\"bwg_hide_ecommerce\":\"Hide Ecommerce\",\"bwg_show_comments\":\"Show Comments\",\"bwg_hide_comments\":\"Hide Comments\",\"bwg_how_comments\":\"how Comments\",\"bwg_restore\":\"Restore\",\"bwg_maximize\":\"Maximize\",\"bwg_fullscreen\":\"Fullscreen\",\"bwg_search_tag\":\"SEARCH...\",\"bwg_tag_no_match\":\"No tags found\",\"bwg_all_tags_selected\":\"All tags selected\",\"bwg_tags_selected\":\"tags selected\",\"play\":\"Play\",\"pause\":\"Pause\",\"is_pro\":\"\"};\\n/* ]]> */\\n</script>\\n<script type=\\'text/javascript\\' src=\\'http://www.jmjamison.com/wp-content/plugins/photo-gallery/js/bwg_frontend.js?ver=1.5.8\\'></script>\\n<script type=\\'text/javascript\\' src=\\'http://www.jmjamison.com/wp-content/plugins/tabs-recent-posts-vs-recent-comments/inc/script.js?ver=1.0\\'></script>\\n<script type=\\'text/javascript\\' src=\\'http://www.jmjamison.com/wp-content/themes/wp-bootstrap-starter/inc/assets/js/popper.min.js?ver=4.9.8\\'></script>\\n<script type=\\'text/javascript\\' src=\\'http://www.jmjamison.com/wp-content/themes/wp-bootstrap-starter/inc/assets/js/bootstrap.min.js?ver=4.9.8\\'></script>\\n<script type=\\'text/javascript\\' src=\\'http://www.jmjamison.com/wp-content/themes/wp-bootstrap-starter/inc/assets/js/theme-script.min.js?ver=4.9.8\\'></script>\\n<script type=\\'text/javascript\\' src=\\'http://www.jmjamison.com/wp-content/themes/wp-bootstrap-starter/inc/assets/js/skip-link-focus-fix.min.js?ver=20151215\\'></script>\\n<script type=\\'text/javascript\\' src=\\'http://www.jmjamison.com/wp-includes/js/wp-embed.min.js?ver=4.9.8\\'></script>\\n<script type=\"text/javascript\" id=\"slb_context\">/* <![CDATA[ */if ( !!window.jQuery ) {(function($){$(document).ready(function(){if ( !!window.SLB ) { {$.extend(SLB, {\"context\":[\"public\",\"user_guest\"]});} }})})(jQuery);}/* ]]> */</script>\\n<script type=\"text/foobox\">/* Run FooBox FREE (v2.6.0) */\\r\\n(function( FOOBOX, $, undefined ) {\\r\\n  FOOBOX.o = {wordpress: { enabled: true }, countMessage:\\'image %index of %total\\', excludes:\\'.fbx-link,.nofoobox,.nolightbox,a[href*=\"pinterest.com/pin/create/button/\"]\\', affiliate : { enabled: false }};\\r\\n  FOOBOX.init = function() {\\r\\n    $(\".fbx-link\").removeClass(\"fbx-link\");\\r\\n    $(\".gallery, .wp-block-gallery, .wp-caption, .wp-block-image, a:has(img[class*=wp-image-]), .post a:has(img[class*=wp-image-]), .foobox\").foobox(FOOBOX.o);\\r\\n  };\\r\\n})( window.FOOBOX = window.FOOBOX || {}, FooBox.$ );\\r\\n\\r\\nFooBox.ready(function() {\\r\\n\\r\\n  jQuery(\"body\").append(\"<span aria-hidden=\\\\\"true\\\\\" class=\\\\\"foobox_font_preload\\\\\" style=\\\\\"font-family:\\'foobox\\'; color:transparent; position:absolute; top:-9999px; left: -9999px;\\\\\">f</span>\");\\r\\n  FOOBOX.init();\\r\\n  jQuery(\\'body\\').on(\\'post-load\\', function(){ FOOBOX.init(); });\\r\\n\\r\\n});\\r\\n</script>\\t\\t\\t\\t<script type=\"text/javascript\">\\r\\n\\t\\t\\t\\t\\tif (window.addEventListener){\\r\\n\\t\\t\\t\\t\\t\\twindow.addEventListener(\"DOMContentLoaded\", function() {\\r\\n\\t\\t\\t\\t\\t\\t\\tvar arr = document.querySelectorAll(\"script[type=\\'text/foobox\\']\");\\r\\n\\t\\t\\t\\t\\t\\t\\tfor (var x = 0; x < arr.length; x++) {\\r\\n\\t\\t\\t\\t\\t\\t\\t\\tvar script = document.createElement(\"script\");\\r\\n\\t\\t\\t\\t\\t\\t\\t\\tscript.type = \"text/javascript\";\\r\\n\\t\\t\\t\\t\\t\\t\\t\\tscript.innerHTML = arr[x].innerHTML;\\r\\n\\t\\t\\t\\t\\t\\t\\t\\tarr[x].parentNode.replaceChild(script, arr[x]);\\r\\n\\t\\t\\t\\t\\t\\t\\t}\\r\\n\\t\\t\\t\\t\\t\\t});\\r\\n\\t\\t\\t\\t\\t} else {\\r\\n\\t\\t\\t\\t\\t\\tconsole.log(\"FooBox does not support the current browser.\");\\r\\n\\t\\t\\t\\t\\t}\\r\\n\\t\\t\\t\\t</script>\\r\\n\\t\\t\\t\\t</body>\\n</html>'"
      ]
     },
     "execution_count": 95,
     "metadata": {},
     "output_type": "execute_result"
    }
   ],
   "source": [
    "r=requests.get(url, cookies=cookies)\n",
    "r.text"
   ]
  },
  {
   "cell_type": "code",
   "execution_count": 96,
   "metadata": {},
   "outputs": [
    {
     "data": {
      "text/plain": [
       "'http://www.jmjamison.com/'"
      ]
     },
     "execution_count": 96,
     "metadata": {},
     "output_type": "execute_result"
    }
   ],
   "source": [
    "r=requests.get('http://www.jmjamison.com')\n",
    "r.url  # the url\n",
    "# r.text  # prints out all the text"
   ]
  },
  {
   "cell_type": "code",
   "execution_count": 97,
   "metadata": {},
   "outputs": [
    {
     "data": {
      "text/plain": [
       "'UTF-8'"
      ]
     },
     "execution_count": 97,
     "metadata": {},
     "output_type": "execute_result"
    }
   ],
   "source": [
    "r.encoding"
   ]
  },
  {
   "cell_type": "code",
   "execution_count": 98,
   "metadata": {},
   "outputs": [],
   "source": [
    "#r.content # like text, prints out everything"
   ]
  },
  {
   "cell_type": "code",
   "execution_count": 99,
   "metadata": {},
   "outputs": [
    {
     "data": {
      "text/plain": [
       "<urllib3.response.HTTPResponse at 0x7f0e457544a8>"
      ]
     },
     "execution_count": 99,
     "metadata": {},
     "output_type": "execute_result"
    }
   ],
   "source": [
    "#r.json()\n",
    "r.raw"
   ]
  },
  {
   "cell_type": "code",
   "execution_count": 100,
   "metadata": {},
   "outputs": [
    {
     "data": {
      "text/plain": [
       "b''"
      ]
     },
     "execution_count": 100,
     "metadata": {},
     "output_type": "execute_result"
    }
   ],
   "source": [
    "r.raw.read(10)"
   ]
  },
  {
   "cell_type": "code",
   "execution_count": 107,
   "metadata": {},
   "outputs": [
    {
     "name": "stdout",
     "output_type": "stream",
     "text": [
      "http://www.jmjamison.com\n",
      "{'key': 'value1', 'key2': 'value2'}\n",
      "<Response [200]>\n"
     ]
    }
   ],
   "source": [
    "import json\n",
    "\n",
    "url='http://www.jmjamison.com'\n",
    "print(url)\n",
    "something={'key':'value1', 'key2':'value2'}\n",
    "print(something)\n",
    "\n",
    "r=requests.post(url, json=something)\n",
    "print(r)"
   ]
  },
  {
   "cell_type": "code",
   "execution_count": null,
   "metadata": {},
   "outputs": [],
   "source": []
  },
  {
   "cell_type": "code",
   "execution_count": null,
   "metadata": {},
   "outputs": [],
   "source": []
  }
 ],
 "metadata": {
  "kernelspec": {
   "display_name": "Python 3",
   "language": "python",
   "name": "python3"
  },
  "language_info": {
   "codemirror_mode": {
    "name": "ipython",
    "version": 3
   },
   "file_extension": ".py",
   "mimetype": "text/x-python",
   "name": "python",
   "nbconvert_exporter": "python",
   "pygments_lexer": "ipython3",
   "version": "3.6.6"
  }
 },
 "nbformat": 4,
 "nbformat_minor": 2
}
